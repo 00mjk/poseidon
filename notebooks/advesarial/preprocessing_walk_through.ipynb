{
 "cells": [
  {
   "cell_type": "code",
   "execution_count": 2,
   "metadata": {
    "collapsed": false
   },
   "outputs": [],
   "source": [
    "import sessionizer"
   ]
  },
  {
   "cell_type": "code",
   "execution_count": 3,
   "metadata": {
    "collapsed": false
   },
   "outputs": [],
   "source": [
    "hexer = sessionizer.Sessionizer(path='/Users/bradh/fs4/datasets/pcaps/smallFlows.pcap')"
   ]
  },
  {
   "cell_type": "code",
   "execution_count": 4,
   "metadata": {
    "collapsed": false
   },
   "outputs": [
    {
     "name": "stdout",
     "output_type": "stream",
     "text": [
      "finished reading pcap file\n"
     ]
    }
   ],
   "source": [
    "hexPackets = hexer.packetizer()"
   ]
  },
  {
   "cell_type": "code",
   "execution_count": 5,
   "metadata": {
    "collapsed": false
   },
   "outputs": [
    {
     "data": {
      "text/plain": [
       "14208"
      ]
     },
     "execution_count": 5,
     "metadata": {},
     "output_type": "execute_result"
    }
   ],
   "source": [
    "len(hexPackets)"
   ]
  },
  {
   "cell_type": "code",
   "execution_count": 7,
   "metadata": {
    "collapsed": false
   },
   "outputs": [
    {
     "data": {
      "text/plain": [
       "'001a8c15f9804061869af1f50800450002ee3d02400080065662c0a8038341365f44dc1f0050a96a7322fbd569e250184029aaae0000474554202f696d6167652e617370783f757569643d39343761363863382d336638312d343161362d613364302d61303131353836313237653326773d393226683d363926736f3d3420485454502f312e310d0a486f73743a20696d67312e636174616c6f672e766964656f2e6d736e2e636f6d0d0a436f6e6e656374696f6e3a206b6565702d616c6976650d0a526566657265723a20687474703a2f2f696d672e776964676574732e766964656f2e732d6d736e2e636f6d2f666c6173682f67616c6c6572797769646765742f315f302f67616c6c6572797769646765742e7377660d0a4163636570743a202a2f2a0d0a557365722d4167656e743a204d6f7a696c6c612f352e30202857696e646f77733b20553b2057696e646f7773204e5420362e313b20656e2d555329204170706c655765624b69742f3533342e313020284b48544d4c2c206c696b65204765636b6f29204368726f6d652f382e302e3535322e323337205361666172692f3533342e31300d0a4163636570742d456e636f64696e673a20677a69702c6465666c6174652c736463680d0a4163636570742d4c616e67756167653a20656e2d55532c656e3b713d302e380d0a4163636570742d436861727365743a2049534f2d383835392d312c7574662d383b713d302e372c2a3b713d302e330d0a436f6f6b69653a204d43313d563d3326475549443d34396161356131343036303134626461396463306639623033363033376361363b206d683d4d5346543b2043554c545552453d454e2d43413b2043433d43413b204d5549443d42334336333531333445454434303741393735373545374534344530463439433b2053616d706c653d31363b20735f63633d747275653b20735f73713d253542253542422535442535440d0a49662d4d6f6469666965642d53696e63653a2053756e2c203233204a616e20323031312031353a32323a343420474d540d0a0d0a'"
      ]
     },
     "execution_count": 7,
     "metadata": {},
     "output_type": "execute_result"
    }
   ],
   "source": [
    "hexPackets[hexPackets.keys()[0]]"
   ]
  },
  {
   "cell_type": "code",
   "execution_count": 6,
   "metadata": {
    "collapsed": false
   },
   "outputs": [],
   "source": [
    "orderedKeys = hexer.order_keys()"
   ]
  },
  {
   "cell_type": "code",
   "execution_count": 8,
   "metadata": {
    "collapsed": false
   },
   "outputs": [],
   "source": [
    "hexSessions = hexer.hexSessionizer()"
   ]
  },
  {
   "cell_type": "code",
   "execution_count": 9,
   "metadata": {
    "collapsed": false
   },
   "outputs": [
    {
     "data": {
      "text/plain": [
       "1205"
      ]
     },
     "execution_count": 9,
     "metadata": {},
     "output_type": "execute_result"
    }
   ],
   "source": [
    "len(hexSessions)"
   ]
  },
  {
   "cell_type": "code",
   "execution_count": 11,
   "metadata": {
    "collapsed": false
   },
   "outputs": [
    {
     "data": {
      "text/plain": [
       "('65.54.95.142:80', '192.168.3.131:56028')"
      ]
     },
     "execution_count": 11,
     "metadata": {},
     "output_type": "execute_result"
    }
   ],
   "source": [
    "hexSessions.keys()[0]"
   ]
  },
  {
   "cell_type": "code",
   "execution_count": 10,
   "metadata": {
    "collapsed": false,
    "scrolled": true
   },
   "outputs": [
    {
     "data": {
      "text/plain": [
       "['4061869af1f5001a8c15f980080045000034999b40003606463941365f8ec0a803830050dadcc39043e3d50f77f38012ffffdb710000020405b40103030404020000',\n",
       " '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',\n",
       " '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',\n",
       " '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',\n",
       " '4061869af1f5001a8c15f9800800450002f09a9740003606428141365f8ec0a803830050dadcc3905500d50f7a615018100a680900005f9b36ed395c6ae41d2292d16fa2edef474589c5a2711d45004e26f998a16f544600b1064b04d3471c0ea14e99e8f092dc387bf092fed1b9af3dd3bcf91a355f55dbc90d7c56e78de360beb5379d2bb007f460809c07885a9b83763d5a557528a74bc1a0cada9dc37dbb0234fac30b43e4b9b60442d99d69144cc2ee3a951a5dc4feebfaab1fa2fe0b0a6ce16a71ebc0a2e5adbf6b81ebef5ae2fa7bd87c6f37e44cd2c44328577d3c4f262fd4f7e224a09d1d33a68de4545effc3be0d441bf0bf51524e1fecef902f0dc90dc0fe513fb2aa33567c46640034d2d3ee541645852af514f23286483c010763731a93d61d606bdae3d8ed75ef80e102afa65a7b233f56a3545f5e246426e82ce18328434a7a1fb02a2f6dd6d1c37e6ba4b5978e0c7b647776a666cc82d50eeec959eb69fc38d8145f28c8ce2a24d909d2adb946eae1916fe3e9d723c2d7526a8d50f9101c4982229a226880f480f4649ee395df4c9d8387119fea29faef109a121e8adfeaae771b1ed2a9fa14350fb18f21f33b5732af1f24f9f8ce194f18dd6bd4fd99ad071213eb2df4a49073dff7a90024f0d30f04c0673573fa476fdad8cbc7d3b73db2a1f876ad4bc52e9f6d80d49d380465fbd44d8abe7e555fbfc2e2b3af5fc7ae439a270b74107572e83bec2fc567c11c9506900bfcfae1cd49b65c652948cdd243afcb6572328792d8ea6ecab61db6031e3f27d107f44e833981795236af9e94f57564de957958c22678d74773c7d935a425ad226e02dbdaf8d8a3fb28036dc0a7a465428b0d38bed66872898ee1e0916044a55babb76b77084e05308daaf8a30b8977b791d73406db1dbd7ab44aa3408eaaec3cb81b48a8fedf3c68dc050d6fc5e96a5d3ef8ac599cd8e837ccb5f324c6df60b93659c025beabeabcc6d26eb335d7339c2ecdd6160716a633d3c95df4d869f4d7f92f48e6bf27d12b92f67052d2e8517774a647b15aa9efdbbcff1900626c0479e3390000',\n",
       " '4061869af1f5001a8c15f980080045000028d08e400036060f5241365f8ec0a803830050dadcc39057c8d50f7a615011100af4e20000000000000000',\n",
       " '4061869af1f5001a8c15f9800800450000288461400036065b7f41365f8ec0a803830050dadcc39057c9d50f7a625010100af4e10000000000000000']"
      ]
     },
     "execution_count": 10,
     "metadata": {},
     "output_type": "execute_result"
    }
   ],
   "source": [
    "hexSessions[hexSessions.keys()[0]]"
   ]
  },
  {
   "cell_type": "code",
   "execution_count": 12,
   "metadata": {
    "collapsed": false
   },
   "outputs": [],
   "source": [
    "import os\n",
    "import time\n",
    "#import sessionizer\n",
    "#import learningfunctions\n",
    "#import adversarialfunctions\n",
    "import json\n",
    "import subprocess\n",
    "import cPickle\n",
    "import sys\n",
    "import binascii\n",
    "import logging\n",
    "\n",
    "import numpy as np\n",
    "import random\n",
    "from copy import copy\n",
    "import logging\n",
    "import theano\n"
   ]
  },
  {
   "cell_type": "code",
   "execution_count": 13,
   "metadata": {
    "collapsed": true
   },
   "outputs": [],
   "source": [
    "def hexTokenizer():\n",
    "    hexstring = '0,\t1,\t2,\t3,\t4,\t5,\t6,\t7,\t8,\t9,\tA,\tB,\tC,\tD,\tE,\tF,\t10,\t11,\t12,\t13,\t14,\t15,\t16,\t17,\t18,\t19\\\n",
    "    ,\t1A,\t1B,\t1C,\t1D,\t1E,\t1F,\t20,\t21,\t22,\t23,\t24,\t25,\t26,\t27,\t28,\t29,\t2A,\t2B,\t2C,\t2D,\t2E,\t2F,\t30,\t31,\t32,\t33,\t34,\t35\\\n",
    "    ,\t36,\t37,\t38,\t39,\t3A,\t3B,\t3C,\t3D,\t3E,\t3F,\t40,\t41,\t42,\t43,\t44,\t45,\t46,\t47,\t48,\t49,\t4A,\t4B,\t4C,\t4D,\t4E,\t4F,\t50,\t51\\\n",
    "    ,\t52,\t53,\t54,\t55,\t56,\t57,\t58,\t59,\t5A,\t5B,\t5C,\t5D,\t5E,\t5F,\t60,\t61,\t62,\t63,\t64,\t65,\t66,\t67,\t68,\t69,\t6A,\t6B,\t6C,\t6D\\\n",
    "    ,\t6E,\t6F,\t70,\t71,\t72,\t73,\t74,\t75,\t76,\t77,\t78,\t79,\t7A,\t7B,\t7C,\t7D,\t7E,\t7F,\t80,\t81,\t82,\t83,\t84,\t85,\t86,\t87,\t88,\t89\\\n",
    "    ,\t8A,\t8B,\t8C,\t8D,\t8E,\t8F,\t90,\t91,\t92,\t93,\t94,\t95,\t96,\t97,\t98,\t99,\t9A,\t9B,\t9C,\t9D,\t9E,\t9F,\tA0,\tA1,\tA2,\tA3,\tA4,\tA5\\\n",
    "    ,\tA6,\tA7,\tA8,\tA9,\tAA,\tAB,\tAC,\tAD,\tAE,\tAF,\tB0,\tB1,\tB2,\tB3,\tB4,\tB5,\tB6,\tB7,\tB8,\tB9,\tBA,\tBB,\tBC,\tBD,\tBE,\tBF,\tC0,\tC1\\\n",
    "    ,\tC2,\tC3,\tC4,\tC5,\tC6,\tC7,\tC8,\tC9,\tCA,\tCB,\tCC,\tCD,\tCE,\tCF,\tD0,\tD1,\tD2,\tD3,\tD4,\tD5,\tD6,\tD7,\tD8,\tD9,\tDA,\tDB,\tDC,\tDD\\\n",
    "    ,\tDE,\tDF,\tE0,\tE1,\tE2,\tE3,\tE4,\tE5,\tE6,\tE7,\tE8,\tE9,\tEA,\tEB,\tEC,\tED,\tEE,\tEF,\tF0,\tF1,\tF2,\tF3,\tF4,\tF5,\tF6,\tF7,\tF8,\tF9\\\n",
    "    ,\tFA,\tFB,\tFC,\tFD,\tFE,\tFF'.replace('\\t', '')\n",
    "\n",
    "    hexList = [x.strip() for x in hexstring.lower().split(',')]\n",
    "    hexList.append('<EOP>') #End Of Packet token\n",
    "    #EOS token??????\n",
    "    hexDict = {}\n",
    "\n",
    "    for key, val in enumerate(hexList):\n",
    "        if len(val) == 1:\n",
    "            val = '0'+val\n",
    "        hexDict[val] = key  #dictionary: k=hex, v=int  \n",
    "    return hexDict"
   ]
  },
  {
   "cell_type": "code",
   "execution_count": 14,
   "metadata": {
    "collapsed": true
   },
   "outputs": [],
   "source": [
    "hexDict = hexTokenizer()"
   ]
  },
  {
   "cell_type": "code",
   "execution_count": 15,
   "metadata": {
    "collapsed": false,
    "scrolled": true
   },
   "outputs": [
    {
     "data": {
      "text/plain": [
       "{'00': 0,\n",
       " '01': 1,\n",
       " '02': 2,\n",
       " '03': 3,\n",
       " '04': 4,\n",
       " '05': 5,\n",
       " '06': 6,\n",
       " '07': 7,\n",
       " '08': 8,\n",
       " '09': 9,\n",
       " '0a': 10,\n",
       " '0b': 11,\n",
       " '0c': 12,\n",
       " '0d': 13,\n",
       " '0e': 14,\n",
       " '0f': 15,\n",
       " '10': 16,\n",
       " '11': 17,\n",
       " '12': 18,\n",
       " '13': 19,\n",
       " '14': 20,\n",
       " '15': 21,\n",
       " '16': 22,\n",
       " '17': 23,\n",
       " '18': 24,\n",
       " '19': 25,\n",
       " '1a': 26,\n",
       " '1b': 27,\n",
       " '1c': 28,\n",
       " '1d': 29,\n",
       " '1e': 30,\n",
       " '1f': 31,\n",
       " '20': 32,\n",
       " '21': 33,\n",
       " '22': 34,\n",
       " '23': 35,\n",
       " '24': 36,\n",
       " '25': 37,\n",
       " '26': 38,\n",
       " '27': 39,\n",
       " '28': 40,\n",
       " '29': 41,\n",
       " '2a': 42,\n",
       " '2b': 43,\n",
       " '2c': 44,\n",
       " '2d': 45,\n",
       " '2e': 46,\n",
       " '2f': 47,\n",
       " '30': 48,\n",
       " '31': 49,\n",
       " '32': 50,\n",
       " '33': 51,\n",
       " '34': 52,\n",
       " '35': 53,\n",
       " '36': 54,\n",
       " '37': 55,\n",
       " '38': 56,\n",
       " '39': 57,\n",
       " '3a': 58,\n",
       " '3b': 59,\n",
       " '3c': 60,\n",
       " '3d': 61,\n",
       " '3e': 62,\n",
       " '3f': 63,\n",
       " '40': 64,\n",
       " '41': 65,\n",
       " '42': 66,\n",
       " '43': 67,\n",
       " '44': 68,\n",
       " '45': 69,\n",
       " '46': 70,\n",
       " '47': 71,\n",
       " '48': 72,\n",
       " '49': 73,\n",
       " '4a': 74,\n",
       " '4b': 75,\n",
       " '4c': 76,\n",
       " '4d': 77,\n",
       " '4e': 78,\n",
       " '4f': 79,\n",
       " '50': 80,\n",
       " '51': 81,\n",
       " '52': 82,\n",
       " '53': 83,\n",
       " '54': 84,\n",
       " '55': 85,\n",
       " '56': 86,\n",
       " '57': 87,\n",
       " '58': 88,\n",
       " '59': 89,\n",
       " '5a': 90,\n",
       " '5b': 91,\n",
       " '5c': 92,\n",
       " '5d': 93,\n",
       " '5e': 94,\n",
       " '5f': 95,\n",
       " '60': 96,\n",
       " '61': 97,\n",
       " '62': 98,\n",
       " '63': 99,\n",
       " '64': 100,\n",
       " '65': 101,\n",
       " '66': 102,\n",
       " '67': 103,\n",
       " '68': 104,\n",
       " '69': 105,\n",
       " '6a': 106,\n",
       " '6b': 107,\n",
       " '6c': 108,\n",
       " '6d': 109,\n",
       " '6e': 110,\n",
       " '6f': 111,\n",
       " '70': 112,\n",
       " '71': 113,\n",
       " '72': 114,\n",
       " '73': 115,\n",
       " '74': 116,\n",
       " '75': 117,\n",
       " '76': 118,\n",
       " '77': 119,\n",
       " '78': 120,\n",
       " '79': 121,\n",
       " '7a': 122,\n",
       " '7b': 123,\n",
       " '7c': 124,\n",
       " '7d': 125,\n",
       " '7e': 126,\n",
       " '7f': 127,\n",
       " '80': 128,\n",
       " '81': 129,\n",
       " '82': 130,\n",
       " '83': 131,\n",
       " '84': 132,\n",
       " '85': 133,\n",
       " '86': 134,\n",
       " '87': 135,\n",
       " '88': 136,\n",
       " '89': 137,\n",
       " '8a': 138,\n",
       " '8b': 139,\n",
       " '8c': 140,\n",
       " '8d': 141,\n",
       " '8e': 142,\n",
       " '8f': 143,\n",
       " '90': 144,\n",
       " '91': 145,\n",
       " '92': 146,\n",
       " '93': 147,\n",
       " '94': 148,\n",
       " '95': 149,\n",
       " '96': 150,\n",
       " '97': 151,\n",
       " '98': 152,\n",
       " '99': 153,\n",
       " '9a': 154,\n",
       " '9b': 155,\n",
       " '9c': 156,\n",
       " '9d': 157,\n",
       " '9e': 158,\n",
       " '9f': 159,\n",
       " '<EOP>': 256,\n",
       " 'a0': 160,\n",
       " 'a1': 161,\n",
       " 'a2': 162,\n",
       " 'a3': 163,\n",
       " 'a4': 164,\n",
       " 'a5': 165,\n",
       " 'a6': 166,\n",
       " 'a7': 167,\n",
       " 'a8': 168,\n",
       " 'a9': 169,\n",
       " 'aa': 170,\n",
       " 'ab': 171,\n",
       " 'ac': 172,\n",
       " 'ad': 173,\n",
       " 'ae': 174,\n",
       " 'af': 175,\n",
       " 'b0': 176,\n",
       " 'b1': 177,\n",
       " 'b2': 178,\n",
       " 'b3': 179,\n",
       " 'b4': 180,\n",
       " 'b5': 181,\n",
       " 'b6': 182,\n",
       " 'b7': 183,\n",
       " 'b8': 184,\n",
       " 'b9': 185,\n",
       " 'ba': 186,\n",
       " 'bb': 187,\n",
       " 'bc': 188,\n",
       " 'bd': 189,\n",
       " 'be': 190,\n",
       " 'bf': 191,\n",
       " 'c0': 192,\n",
       " 'c1': 193,\n",
       " 'c2': 194,\n",
       " 'c3': 195,\n",
       " 'c4': 196,\n",
       " 'c5': 197,\n",
       " 'c6': 198,\n",
       " 'c7': 199,\n",
       " 'c8': 200,\n",
       " 'c9': 201,\n",
       " 'ca': 202,\n",
       " 'cb': 203,\n",
       " 'cc': 204,\n",
       " 'cd': 205,\n",
       " 'ce': 206,\n",
       " 'cf': 207,\n",
       " 'd0': 208,\n",
       " 'd1': 209,\n",
       " 'd2': 210,\n",
       " 'd3': 211,\n",
       " 'd4': 212,\n",
       " 'd5': 213,\n",
       " 'd6': 214,\n",
       " 'd7': 215,\n",
       " 'd8': 216,\n",
       " 'd9': 217,\n",
       " 'da': 218,\n",
       " 'db': 219,\n",
       " 'dc': 220,\n",
       " 'dd': 221,\n",
       " 'de': 222,\n",
       " 'df': 223,\n",
       " 'e0': 224,\n",
       " 'e1': 225,\n",
       " 'e2': 226,\n",
       " 'e3': 227,\n",
       " 'e4': 228,\n",
       " 'e5': 229,\n",
       " 'e6': 230,\n",
       " 'e7': 231,\n",
       " 'e8': 232,\n",
       " 'e9': 233,\n",
       " 'ea': 234,\n",
       " 'eb': 235,\n",
       " 'ec': 236,\n",
       " 'ed': 237,\n",
       " 'ee': 238,\n",
       " 'ef': 239,\n",
       " 'f0': 240,\n",
       " 'f1': 241,\n",
       " 'f2': 242,\n",
       " 'f3': 243,\n",
       " 'f4': 244,\n",
       " 'f5': 245,\n",
       " 'f6': 246,\n",
       " 'f7': 247,\n",
       " 'f8': 248,\n",
       " 'f9': 249,\n",
       " 'fa': 250,\n",
       " 'fb': 251,\n",
       " 'fc': 252,\n",
       " 'fd': 253,\n",
       " 'fe': 254,\n",
       " 'ff': 255}"
      ]
     },
     "execution_count": 15,
     "metadata": {},
     "output_type": "execute_result"
    }
   ],
   "source": [
    "hexDict"
   ]
  },
  {
   "cell_type": "code",
   "execution_count": 18,
   "metadata": {
    "collapsed": true
   },
   "outputs": [],
   "source": [
    "def oneHot(index, granular = 'hex'):\n",
    "    if granular == 'hex':\n",
    "        vecLen = 257\n",
    "    else:\n",
    "        vecLen = 17\n",
    "    \n",
    "    zeroVec = np.zeros(vecLen)\n",
    "    zeroVec[index] = 1.0\n",
    "    \n",
    "    return zeroVec\n",
    "\n",
    "#Not used in device classification\n",
    "def externalIPconverter(hex_data):  \n",
    "    try:\n",
    "        ipaddr = \"%i.%i.%i.%i\" % (int(hex_data[0:2],16),int(hex_data[2:4],16),int(hex_data[4:6],16),int(hex_data[6:8],16))  \n",
    "        if IP(ipaddr).iptype() == 'PRIVATE':\n",
    "            return hex_data \n",
    "        else:\n",
    "            return '01010101'\n",
    "    except:\n",
    "        return hex_data\n",
    "    \n",
    "#TODO: add character level encoding\n",
    "def oneSessionEncoder(sessionPackets, hexDict, maxPackets = 2, packetTimeSteps = 100,\n",
    "                      packetReverse = False, charLevel = False, padOldTimeSteps = True, \n",
    "                      onlyEssentials = False, genPublicIP = False):    \n",
    "            \n",
    "    sessionCollect = []\n",
    "    packetCollect = []\n",
    "    \n",
    "    if charLevel:\n",
    "        vecLen = 17\n",
    "    else:\n",
    "        vecLen = 257\n",
    "    \n",
    "    if len(sessionPackets) > maxPackets: #crop the number of sessions to maxPackets\n",
    "        sessionList = copy(sessionPackets[:maxPackets])\n",
    "    else:\n",
    "        sessionList = copy(sessionPackets)\n",
    "\n",
    "    for rawpacket in sessionList:\n",
    "        packet = copy(rawpacket)     \n",
    "        if genPublicIP:\n",
    "            packet = rawpacket[:52]+externalIPconverter(rawpacket[52:60])+externalIPconverter(rawpacket[60:68])+rawpacket[68:]\n",
    "        \n",
    "        if onlyEssentials: #cat of length,protocol,frag,srcIP,dstIP,srcport,dstport\n",
    "            packet = packet[32:36]+packet[44:46]+packet[46:48]+packet[52:60]+packet[60:68]+\\\n",
    "                     packet[68:72]+packet[72:76]\n",
    "        \n",
    "        packet = [hexDict[packet[i:i+2]] for i in xrange(0,len(packet)-2+1,2)] #get hex pairs\n",
    "            \n",
    "        if len(packet) >= packetTimeSteps - 1: #crop packet to length packetTimeSteps rel to hex pairs\n",
    "            packet = packet[:packetTimeSteps - 1]\n",
    "        \n",
    "        packet = packet+[256] #add <EOP> end of packet token. now have packetTimeSteps\n",
    "        \n",
    "        packetCollect.append(packet)\n",
    "        \n",
    "        pacMat = np.array([oneHot(x) for x in packet]) #one hot encoding of packet into a matrix\n",
    "        pacMatLen = len(pacMat)\n",
    "        \n",
    "        #padding packet\n",
    "        if packetReverse:\n",
    "            pacMat = pacMat[::-1]\n",
    "\n",
    "        if pacMatLen < packetTimeSteps:\n",
    "            #pad by stacking zeros on top of data so that earlier timesteps do not have information\n",
    "            #padding the packet such that zeros are after the actual info for better translation\n",
    "            if padOldTimeSteps:\n",
    "                pacMat = np.vstack( ( np.zeros((packetTimeSteps-pacMatLen,vecLen)), pacMat) ) \n",
    "            else:\n",
    "                pacMat = np.vstack( (pacMat, np.zeros((packetTimeSteps-pacMatLen,vecLen))) ) \n",
    "\n",
    "        #if pacMatLen >= packetTimeSteps + 1:\n",
    "        #    pacMat = pacMat[:packetTimeSteps, :]\n",
    "\n",
    "        sessionCollect.append(pacMat)\n",
    "\n",
    "    #padding session\n",
    "    sessionCollect = np.asarray(sessionCollect, dtype=theano.config.floatX)\n",
    "    numPacketsInSession = sessionCollect.shape[0]\n",
    "    if numPacketsInSession < maxPackets:\n",
    "        #pad sessions to fit the \n",
    "        sessionCollect = np.vstack( (sessionCollect,np.zeros((maxPackets-numPacketsInSession, \n",
    "                                                             packetTimeSteps, vecLen))) )\n",
    "    \n",
    "    return sessionCollect, packetCollect"
   ]
  },
  {
   "cell_type": "code",
   "execution_count": null,
   "metadata": {
    "collapsed": true
   },
   "outputs": [],
   "source": [
    "'40 61 86 9a f1 ...'"
   ]
  },
  {
   "cell_type": "code",
   "execution_count": 19,
   "metadata": {
    "collapsed": false
   },
   "outputs": [],
   "source": [
    "encodedSession = oneSessionEncoder(hexSessions[hexSessions.keys()[0]], hexDict, maxPackets = 2, packetTimeSteps = 80,\n",
    "                      packetReverse = False, charLevel = False, padOldTimeSteps = True, \n",
    "                      onlyEssentials = False, genPublicIP = False)"
   ]
  },
  {
   "cell_type": "code",
   "execution_count": 20,
   "metadata": {
    "collapsed": false
   },
   "outputs": [
    {
     "data": {
      "text/plain": [
       "(array([[[ 0.,  0.,  0., ...,  0.,  0.,  0.],\n",
       "         [ 0.,  0.,  0., ...,  0.,  0.,  0.],\n",
       "         [ 0.,  0.,  0., ...,  0.,  0.,  0.],\n",
       "         ..., \n",
       "         [ 1.,  0.,  0., ...,  0.,  0.,  0.],\n",
       "         [ 1.,  0.,  0., ...,  0.,  0.,  0.],\n",
       "         [ 0.,  0.,  0., ...,  0.,  0.,  1.]],\n",
       " \n",
       "        [[ 0.,  0.,  0., ...,  0.,  0.,  0.],\n",
       "         [ 0.,  0.,  0., ...,  0.,  0.,  0.],\n",
       "         [ 0.,  0.,  0., ...,  0.,  0.,  0.],\n",
       "         ..., \n",
       "         [ 0.,  0.,  0., ...,  0.,  0.,  0.],\n",
       "         [ 0.,  0.,  0., ...,  0.,  0.,  0.],\n",
       "         [ 0.,  0.,  0., ...,  0.,  0.,  1.]]]),\n",
       " [[64,\n",
       "   97,\n",
       "   134,\n",
       "   154,\n",
       "   241,\n",
       "   245,\n",
       "   0,\n",
       "   26,\n",
       "   140,\n",
       "   21,\n",
       "   249,\n",
       "   128,\n",
       "   8,\n",
       "   0,\n",
       "   69,\n",
       "   0,\n",
       "   0,\n",
       "   52,\n",
       "   153,\n",
       "   155,\n",
       "   64,\n",
       "   0,\n",
       "   54,\n",
       "   6,\n",
       "   70,\n",
       "   57,\n",
       "   65,\n",
       "   54,\n",
       "   95,\n",
       "   142,\n",
       "   192,\n",
       "   168,\n",
       "   3,\n",
       "   131,\n",
       "   0,\n",
       "   80,\n",
       "   218,\n",
       "   220,\n",
       "   195,\n",
       "   144,\n",
       "   67,\n",
       "   227,\n",
       "   213,\n",
       "   15,\n",
       "   119,\n",
       "   243,\n",
       "   128,\n",
       "   18,\n",
       "   255,\n",
       "   255,\n",
       "   219,\n",
       "   113,\n",
       "   0,\n",
       "   0,\n",
       "   2,\n",
       "   4,\n",
       "   5,\n",
       "   180,\n",
       "   1,\n",
       "   3,\n",
       "   3,\n",
       "   4,\n",
       "   4,\n",
       "   2,\n",
       "   0,\n",
       "   0,\n",
       "   256],\n",
       "  [64,\n",
       "   97,\n",
       "   134,\n",
       "   154,\n",
       "   241,\n",
       "   245,\n",
       "   0,\n",
       "   26,\n",
       "   140,\n",
       "   21,\n",
       "   249,\n",
       "   128,\n",
       "   8,\n",
       "   0,\n",
       "   69,\n",
       "   0,\n",
       "   5,\n",
       "   220,\n",
       "   153,\n",
       "   255,\n",
       "   64,\n",
       "   0,\n",
       "   54,\n",
       "   6,\n",
       "   64,\n",
       "   45,\n",
       "   65,\n",
       "   54,\n",
       "   95,\n",
       "   142,\n",
       "   192,\n",
       "   168,\n",
       "   3,\n",
       "   131,\n",
       "   0,\n",
       "   80,\n",
       "   218,\n",
       "   220,\n",
       "   195,\n",
       "   144,\n",
       "   67,\n",
       "   228,\n",
       "   213,\n",
       "   15,\n",
       "   122,\n",
       "   97,\n",
       "   80,\n",
       "   16,\n",
       "   16,\n",
       "   10,\n",
       "   61,\n",
       "   58,\n",
       "   0,\n",
       "   0,\n",
       "   72,\n",
       "   84,\n",
       "   84,\n",
       "   80,\n",
       "   47,\n",
       "   49,\n",
       "   46,\n",
       "   49,\n",
       "   32,\n",
       "   50,\n",
       "   48,\n",
       "   48,\n",
       "   32,\n",
       "   79,\n",
       "   75,\n",
       "   13,\n",
       "   10,\n",
       "   67,\n",
       "   97,\n",
       "   99,\n",
       "   104,\n",
       "   101,\n",
       "   45,\n",
       "   67,\n",
       "   111,\n",
       "   256]])"
      ]
     },
     "execution_count": 20,
     "metadata": {},
     "output_type": "execute_result"
    }
   ],
   "source": [
    "encodedSession"
   ]
  },
  {
   "cell_type": "code",
   "execution_count": null,
   "metadata": {
    "collapsed": true
   },
   "outputs": [],
   "source": []
  },
  {
   "cell_type": "code",
   "execution_count": 21,
   "metadata": {
    "collapsed": false
   },
   "outputs": [
    {
     "data": {
      "text/plain": [
       "array([[[ 0.,  0.,  0., ...,  0.,  0.,  0.],\n",
       "        [ 0.,  0.,  0., ...,  0.,  0.,  0.],\n",
       "        [ 0.,  0.,  0., ...,  0.,  0.,  0.],\n",
       "        ..., \n",
       "        [ 1.,  0.,  0., ...,  0.,  0.,  0.],\n",
       "        [ 1.,  0.,  0., ...,  0.,  0.,  0.],\n",
       "        [ 0.,  0.,  0., ...,  0.,  0.,  1.]],\n",
       "\n",
       "       [[ 0.,  0.,  0., ...,  0.,  0.,  0.],\n",
       "        [ 0.,  0.,  0., ...,  0.,  0.,  0.],\n",
       "        [ 0.,  0.,  0., ...,  0.,  0.,  0.],\n",
       "        ..., \n",
       "        [ 0.,  0.,  0., ...,  0.,  0.,  0.],\n",
       "        [ 0.,  0.,  0., ...,  0.,  0.,  0.],\n",
       "        [ 0.,  0.,  0., ...,  0.,  0.,  1.]]])"
      ]
     },
     "execution_count": 21,
     "metadata": {},
     "output_type": "execute_result"
    }
   ],
   "source": [
    "#[0] is the one-hot encoding hex pairs (time moves along rows)\n",
    "encodedSession[0]"
   ]
  },
  {
   "cell_type": "code",
   "execution_count": 22,
   "metadata": {
    "collapsed": false
   },
   "outputs": [
    {
     "data": {
      "text/plain": [
       "(2, 80, 257)"
      ]
     },
     "execution_count": 22,
     "metadata": {},
     "output_type": "execute_result"
    }
   ],
   "source": [
    "encodedSession[0].shape"
   ]
  },
  {
   "cell_type": "code",
   "execution_count": 23,
   "metadata": {
    "collapsed": false
   },
   "outputs": [
    {
     "data": {
      "text/plain": [
       "[[64,\n",
       "  97,\n",
       "  134,\n",
       "  154,\n",
       "  241,\n",
       "  245,\n",
       "  0,\n",
       "  26,\n",
       "  140,\n",
       "  21,\n",
       "  249,\n",
       "  128,\n",
       "  8,\n",
       "  0,\n",
       "  69,\n",
       "  0,\n",
       "  0,\n",
       "  52,\n",
       "  153,\n",
       "  155,\n",
       "  64,\n",
       "  0,\n",
       "  54,\n",
       "  6,\n",
       "  70,\n",
       "  57,\n",
       "  65,\n",
       "  54,\n",
       "  95,\n",
       "  142,\n",
       "  192,\n",
       "  168,\n",
       "  3,\n",
       "  131,\n",
       "  0,\n",
       "  80,\n",
       "  218,\n",
       "  220,\n",
       "  195,\n",
       "  144,\n",
       "  67,\n",
       "  227,\n",
       "  213,\n",
       "  15,\n",
       "  119,\n",
       "  243,\n",
       "  128,\n",
       "  18,\n",
       "  255,\n",
       "  255,\n",
       "  219,\n",
       "  113,\n",
       "  0,\n",
       "  0,\n",
       "  2,\n",
       "  4,\n",
       "  5,\n",
       "  180,\n",
       "  1,\n",
       "  3,\n",
       "  3,\n",
       "  4,\n",
       "  4,\n",
       "  2,\n",
       "  0,\n",
       "  0,\n",
       "  256],\n",
       " [64,\n",
       "  97,\n",
       "  134,\n",
       "  154,\n",
       "  241,\n",
       "  245,\n",
       "  0,\n",
       "  26,\n",
       "  140,\n",
       "  21,\n",
       "  249,\n",
       "  128,\n",
       "  8,\n",
       "  0,\n",
       "  69,\n",
       "  0,\n",
       "  5,\n",
       "  220,\n",
       "  153,\n",
       "  255,\n",
       "  64,\n",
       "  0,\n",
       "  54,\n",
       "  6,\n",
       "  64,\n",
       "  45,\n",
       "  65,\n",
       "  54,\n",
       "  95,\n",
       "  142,\n",
       "  192,\n",
       "  168,\n",
       "  3,\n",
       "  131,\n",
       "  0,\n",
       "  80,\n",
       "  218,\n",
       "  220,\n",
       "  195,\n",
       "  144,\n",
       "  67,\n",
       "  228,\n",
       "  213,\n",
       "  15,\n",
       "  122,\n",
       "  97,\n",
       "  80,\n",
       "  16,\n",
       "  16,\n",
       "  10,\n",
       "  61,\n",
       "  58,\n",
       "  0,\n",
       "  0,\n",
       "  72,\n",
       "  84,\n",
       "  84,\n",
       "  80,\n",
       "  47,\n",
       "  49,\n",
       "  46,\n",
       "  49,\n",
       "  32,\n",
       "  50,\n",
       "  48,\n",
       "  48,\n",
       "  32,\n",
       "  79,\n",
       "  75,\n",
       "  13,\n",
       "  10,\n",
       "  67,\n",
       "  97,\n",
       "  99,\n",
       "  104,\n",
       "  101,\n",
       "  45,\n",
       "  67,\n",
       "  111,\n",
       "  256]]"
      ]
     },
     "execution_count": 23,
     "metadata": {},
     "output_type": "execute_result"
    }
   ],
   "source": [
    "#[1] is the tokenized hex pairs\n",
    "encodedSession[1]"
   ]
  },
  {
   "cell_type": "code",
   "execution_count": null,
   "metadata": {
    "collapsed": true
   },
   "outputs": [],
   "source": []
  },
  {
   "cell_type": "code",
   "execution_count": null,
   "metadata": {
    "collapsed": true
   },
   "outputs": [],
   "source": []
  }
 ],
 "metadata": {
  "kernelspec": {
   "display_name": "Python 2",
   "language": "python",
   "name": "python2"
  },
  "language_info": {
   "codemirror_mode": {
    "name": "ipython",
    "version": 2
   },
   "file_extension": ".py",
   "mimetype": "text/x-python",
   "name": "python",
   "nbconvert_exporter": "python",
   "pygments_lexer": "ipython2",
   "version": "2.7.11"
  }
 },
 "nbformat": 4,
 "nbformat_minor": 0
}
