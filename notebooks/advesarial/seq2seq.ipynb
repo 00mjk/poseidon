{
 "cells": [
  {
   "cell_type": "code",
   "execution_count": null,
   "metadata": {
    "collapsed": true
   },
   "outputs": [],
   "source": [
    "#how data are represented at each level (forward, backward, forward with padding on top) needs a little\n",
    "    #experimentation to determine the best representation\n",
    "    #also, is encoding at each layer really the best way? or just feeding the raw through?\n",
    "    \n",
    "#Outside web ips are going to be a problem/messy/noisy. Start by categorizing all outside ips by <OUTSIDE_IP>\n",
    "    #instead of the ip address, or another 4 digit symbol to insert into the hex string.\n",
    "    \n",
    "#to help the models generalize more, for a given source ip address with probability p (say p = 0.1) \n",
    "    #use the token <OTHER_MACHINE>\n",
    "    \n",
    "#should we remove random parts of the header, i.e. checksum\n",
    "\n",
    "#should I take out bias for RNNs?\n",
    "\n",
    "#for the decoder,does the fork encoding need to happen ?\n",
    "    #do we simply cat the hContext with the next words?\n",
    "    \n",
    "#Should the architecture just be encode, context and then prediction???\n",
    "\n",
    "#Input data, should it have character and hex pair encoding as well?"
   ]
  },
  {
   "cell_type": "code",
   "execution_count": 35,
   "metadata": {
    "collapsed": false
   },
   "outputs": [],
   "source": [
    "#%matplotlib inline\n",
    "import os\n",
    "os.environ['THEANO_FLAGS'] = 'floatX=float32,device=gpu'\n",
    "\n",
    "import ast\n",
    "import json\n",
    "import subprocess\n",
    "import cPickle\n",
    "import sys\n",
    "import binascii\n",
    "import multiprocessing as mp\n",
    "from itertools import chain\n",
    "#from scapy.all import *\n",
    "from collections import OrderedDict\n",
    "\n",
    "import numpy as np\n",
    "import random\n",
    "#from scipy.stats import itemfreq\n",
    "#import matplotlib.pyplot as plt\n",
    "from copy import copy\n",
    "\n",
    "import blocks\n",
    "from blocks.bricks import Linear, Softmax, Softplus, NDimensionalSoftmax, BatchNormalizedMLP, \\\n",
    "                                Rectifier, Logistic, Tanh, MLP\n",
    "from blocks.bricks.recurrent import GatedRecurrent, Fork, LSTM\n",
    "from blocks.initialization import Constant, IsotropicGaussian, Identity, Uniform\n",
    "from blocks.bricks.cost import BinaryCrossEntropy, CategoricalCrossEntropy\n",
    "from blocks.filter import VariableFilter\n",
    "from blocks.roles import PARAMETER\n",
    "from blocks.graph import ComputationGraph\n",
    "\n",
    "import theano\n",
    "from theano import tensor as T\n",
    "\n",
    "sys.setrecursionlimit(100000)\n",
    "\n",
    "###These warnings do not impede progress\n",
    "#WARNING: Failed to execute tcpdump. Check it is installed and in the PATH\n",
    "#WARNING: No route found for IPv6 destination :: (no default route?)\n"
   ]
  },
  {
   "cell_type": "code",
   "execution_count": 36,
   "metadata": {
    "collapsed": false
   },
   "outputs": [],
   "source": [
    "maxPackets = 4\n",
    "packetTimeSteps = 80\n",
    "dataPath = '/data/fs4/datasets/pcaps/bigFlows.pcap'\n",
    "\n",
    "packetReverse = False\n",
    "padOldTimeSteps = True\n",
    "\n",
    "runname = 'hredClassify8FullPacketsSTD0_2'\n",
    "rnnType = 'gru' #gru or lstm\n",
    "\n",
    "wtstd = 0.2\n",
    "dimIn = 257 #hex has 256 characters + the <EOP> character\n",
    "dim = 100 #dimension reduction size\n",
    "batch_sizeClass = 20\n",
    "numClasses = 4\n",
    "clippings = 1\n",
    "\n",
    "epochs = 200\n",
    "learning_rateClass = theano.shared(np.array(0.0001, dtype=theano.config.floatX))\n",
    "learning_decay = np.array(0.9, dtype=theano.config.floatX)\n",
    "trainPercent = 0.9\n"
   ]
  },
  {
   "cell_type": "markdown",
   "metadata": {},
   "source": [
    "# Data"
   ]
  },
  {
   "cell_type": "code",
   "execution_count": 26,
   "metadata": {
    "collapsed": true
   },
   "outputs": [],
   "source": [
    "def parse_header(line):\n",
    "    ret_dict = {}\n",
    "    h = line.split()\n",
    "    #ret_dict['direction'] = \" \".join(h[3:6])\n",
    "\n",
    "    if h[2] == 'IP6':\n",
    "        \"\"\"\n",
    "        Conditional formatting based on ethernet type.\n",
    "        IPv4 format: 0.0.0.0.port\n",
    "        IPv6 format (one of many): 0:0:0:0:0:0.port\n",
    "        \"\"\"\n",
    "        ret_dict['src_port'] = h[3].split('.')[-1]\n",
    "        ret_dict['src_ip'] = h[3].split('.')[0]\n",
    "\n",
    "        ret_dict['dest_port'] = h[5].split('.')[-1].split(':')[0]\n",
    "        ret_dict['dest_ip'] = h[5].split('.')[0]\n",
    "    else:\n",
    "        if len(h[3].split('.')) > 4:\n",
    "            ret_dict['src_port'] = h[3].split('.')[-1]\n",
    "            ret_dict['src_ip'] = '.'.join(h[3].split('.')[:-1])\n",
    "        else:\n",
    "            ret_dict['src_ip'] = h[3]\n",
    "            ret_dict['src_port'] = ''\n",
    "\n",
    "        if len(h[5].split('.')) > 4:\n",
    "            ret_dict['dest_port'] = h[5].split('.')[-1].split(':')[0]\n",
    "            ret_dict['dest_ip'] = '.'.join(h[5].split('.')[:-1])\n",
    "        else:\n",
    "            ret_dict['dest_ip'] = h[5].split(':')[0]\n",
    "            ret_dict['dest_port'] = ''\n",
    "\n",
    "    try:\n",
    "        if ret_dict['src_port'] == '53' or ret_dict['dst_port'] == '53':\n",
    "            ret_dict['length'] = int(h[-1][1:-1])\n",
    "        else:\n",
    "            try:\n",
    "                ret_dict['length'] = int(line.split(' length ')[1].split(':')[0])\n",
    "            except:\n",
    "                ret_dict['length'] = 0\n",
    "    except:\n",
    "        try:\n",
    "            ret_dict['length'] = int(line.split(' length ')[1].split(':')[0])\n",
    "        except:\n",
    "            ret_dict['length'] = 0\n",
    "\n",
    "    return ret_dict\n",
    "\n",
    "def parse_data(line, length):\n",
    "    ret_str = ''\n",
    "    h, d = line.split(':', 1)\n",
    "    ret_str = d.strip().replace(' ', '')\n",
    "    if length != 0:\n",
    "        ret_str = ret_str[:-(2 * length)]\n",
    "    return ret_str\n",
    "\n",
    "def process_packet(output):\n",
    "    # TODO!! throws away the first packet!\n",
    "    try:\n",
    "        ret_header = {}\n",
    "        ret_dict = {}\n",
    "        ret_data = ''\n",
    "        for line in output:\n",
    "            line = line.strip()\n",
    "            if line.startswith('0x'):\n",
    "                data = parse_data(line, ret_header['length'])\n",
    "                ret_data = ret_data + data\n",
    "            else:\n",
    "                ret_header = parse_header(line)\n",
    "                ret_dict.update(ret_header)\n",
    "                if ret_data != '':\n",
    "                    ret_dict['data'] = ret_data\n",
    "                    ret_data = ''\n",
    "                yield ret_dict\n",
    "    except:\n",
    "        pass\n",
    "    \n",
    "def read_pcap(path):\n",
    "    hex_sessions = OrderedDict()\n",
    "    proc = subprocess.Popen('tcpdump -nn -tttt -xx -r '+path,\n",
    "                            shell=True,\n",
    "                            stdout=subprocess.PIPE)\n",
    "    for packet in process_packet(proc.stdout):\n",
    "        a = str(packet)\n",
    "    \n",
    "        a = ast.literal_eval(a)\n",
    "        if 'data' in a:\n",
    "            key = (a['src_ip']+\":\"+a['src_port'], a['dest_ip']+\":\"+a['dest_port'])\n",
    "            keys = [k for k in hex_sessions if (k[0] == key[0] and k[1] == key[1]) or (k[0] == key[1] and k[1] == key[0])]\n",
    "            if len(keys) > 0:\n",
    "                #hex_sessions[keys[0]].append(a['direction']+a['data'])\n",
    "                hex_sessions[keys[0]].append(a['data'])\n",
    "            else:\n",
    "                #hex_sessions[key] = [a['direction']+a['data']]\n",
    "                hex_sessions[key] = [a['data']]\n",
    "    return hex_sessions"
   ]
  },
  {
   "cell_type": "markdown",
   "metadata": {},
   "source": [
    "hexSessions = read_pcap(dataPath)\n",
    "\n",
    "print 'gathering capture into sessions'\n",
    "\n",
    "for ses in hexSessions.keys():\n",
    "    paclens = []\n",
    "    for pac in hexSessions[ses]:\n",
    "        paclens.append(len(pac))\n",
    "    if np.min(paclens)<80:\n",
    "        del hexSessions[ses]\n",
    "print 'pickling sessions'\n",
    "\n",
    "with open('bigFlows.pickle', 'wb') as handle:\n",
    "    cPickle.dump(hexSessions, handle)"
   ]
  },
  {
   "cell_type": "code",
   "execution_count": 6,
   "metadata": {
    "collapsed": false
   },
   "outputs": [],
   "source": [
    "with open('bigFlows.pickle', 'rb') as handle:\n",
    "    hexSessions = cPickle.load(handle)"
   ]
  },
  {
   "cell_type": "code",
   "execution_count": 7,
   "metadata": {
    "collapsed": true
   },
   "outputs": [],
   "source": [
    "#Making the hex dictionary\n",
    "def hexTokenizer():\n",
    "    hexstring = '0,\t1,\t2,\t3,\t4,\t5,\t6,\t7,\t8,\t9,\tA,\tB,\tC,\tD,\tE,\tF,\t10,\t11,\t12,\t13,\t14,\t15,\t16,\t17,\t18,\t19\\\n",
    "    ,\t1A,\t1B,\t1C,\t1D,\t1E,\t1F,\t20,\t21,\t22,\t23,\t24,\t25,\t26,\t27,\t28,\t29,\t2A,\t2B,\t2C,\t2D,\t2E,\t2F,\t30,\t31,\t32,\t33,\t34,\t35\\\n",
    "    ,\t36,\t37,\t38,\t39,\t3A,\t3B,\t3C,\t3D,\t3E,\t3F,\t40,\t41,\t42,\t43,\t44,\t45,\t46,\t47,\t48,\t49,\t4A,\t4B,\t4C,\t4D,\t4E,\t4F,\t50,\t51\\\n",
    "    ,\t52,\t53,\t54,\t55,\t56,\t57,\t58,\t59,\t5A,\t5B,\t5C,\t5D,\t5E,\t5F,\t60,\t61,\t62,\t63,\t64,\t65,\t66,\t67,\t68,\t69,\t6A,\t6B,\t6C,\t6D\\\n",
    "    ,\t6E,\t6F,\t70,\t71,\t72,\t73,\t74,\t75,\t76,\t77,\t78,\t79,\t7A,\t7B,\t7C,\t7D,\t7E,\t7F,\t80,\t81,\t82,\t83,\t84,\t85,\t86,\t87,\t88,\t89\\\n",
    "    ,\t8A,\t8B,\t8C,\t8D,\t8E,\t8F,\t90,\t91,\t92,\t93,\t94,\t95,\t96,\t97,\t98,\t99,\t9A,\t9B,\t9C,\t9D,\t9E,\t9F,\tA0,\tA1,\tA2,\tA3,\tA4,\tA5\\\n",
    "    ,\tA6,\tA7,\tA8,\tA9,\tAA,\tAB,\tAC,\tAD,\tAE,\tAF,\tB0,\tB1,\tB2,\tB3,\tB4,\tB5,\tB6,\tB7,\tB8,\tB9,\tBA,\tBB,\tBC,\tBD,\tBE,\tBF,\tC0,\tC1\\\n",
    "    ,\tC2,\tC3,\tC4,\tC5,\tC6,\tC7,\tC8,\tC9,\tCA,\tCB,\tCC,\tCD,\tCE,\tCF,\tD0,\tD1,\tD2,\tD3,\tD4,\tD5,\tD6,\tD7,\tD8,\tD9,\tDA,\tDB,\tDC,\tDD\\\n",
    "    ,\tDE,\tDF,\tE0,\tE1,\tE2,\tE3,\tE4,\tE5,\tE6,\tE7,\tE8,\tE9,\tEA,\tEB,\tEC,\tED,\tEE,\tEF,\tF0,\tF1,\tF2,\tF3,\tF4,\tF5,\tF6,\tF7,\tF8,\tF9\\\n",
    "    ,\tFA,\tFB,\tFC,\tFD,\tFE,\tFF'.replace('\\t', '')\n",
    "\n",
    "    hexList = [x.strip() for x in hexstring.lower().split(',')]\n",
    "    hexList.append('<EOP>') #End Of Packet token\n",
    "    #EOS token??????\n",
    "    hexDict = {}\n",
    "\n",
    "    for key, val in enumerate(hexList):\n",
    "        if len(val) == 1:\n",
    "            val = '0'+val\n",
    "        hexDict[val] = key  #dictionary k=hex, v=int  \n",
    "    \n",
    "    return hexDict"
   ]
  },
  {
   "cell_type": "code",
   "execution_count": 8,
   "metadata": {
    "collapsed": false
   },
   "outputs": [],
   "source": [
    "hexDict = hexTokenizer()"
   ]
  },
  {
   "cell_type": "markdown",
   "metadata": {},
   "source": [
    "# Dictionary of IP communications"
   ]
  },
  {
   "cell_type": "code",
   "execution_count": 9,
   "metadata": {
    "collapsed": true
   },
   "outputs": [],
   "source": [
    "def srcIpDict(hexSessionDict):\n",
    "    ''' \n",
    "    input: dictionary of key = sessions, value = list of HEX HEADERS of packets in session\n",
    "    output: dictionary of key = source IP, value/subkey = dictionary of destination IPs, \n",
    "                                           subvalue = [[sport], [dport], [plen], [protocol]]\n",
    "    \n",
    "    '''\n",
    "    \n",
    "    srcIpDict = OrderedDict()   \n",
    "    uniqIPs = [] #some ips are dest only. this will collect all ips, not just srcIpDict.keys()\n",
    "    \n",
    "    for session in hexSessionDict.keys():\n",
    "        \n",
    "        for rawpacket in hexSessionDict[session]:\n",
    "            packet = copy(rawpacket)\n",
    "            \n",
    "            dstIpSubDict = {}\n",
    "            \n",
    "            sourceMAC = packet[:12]\n",
    "            destMAC = packet[12:24]\n",
    "            srcip = packet[52:60]\n",
    "            dstip = packet[60:68]\n",
    "            sport = packet[68:72]\n",
    "            dport = packet[72:76]\n",
    "            plen = packet[32:36]\n",
    "            protocol = packet[46:48]\n",
    "            \n",
    "            uniqIPs = list(set(uniqIPs) | set([dstip, srcip]))\n",
    "\n",
    "            if srcip not in srcIpDict:\n",
    "                dstIpSubDict[dstip] = [[sport], [dport], [plen], [protocol], [sourceMAC], [destMAC]]\n",
    "                srcIpDict[srcip] = dstIpSubDict\n",
    "\n",
    "            if dstip not in srcIpDict[srcip]:    \n",
    "                srcIpDict[srcip][dstip] = [[sport], [dport], [plen], [protocol], [sourceMAC], [destMAC]]\n",
    "            else:\n",
    "                srcIpDict[srcip][dstip][0].append(sport)\n",
    "                srcIpDict[srcip][dstip][1].append(dport)\n",
    "                srcIpDict[srcip][dstip][2].append(plen)\n",
    "                srcIpDict[srcip][dstip][3].append(protocol)\n",
    "                srcIpDict[srcip][dstip][4].append(sourceMAC)\n",
    "                srcIpDict[srcip][dstip][5].append(destMAC)\n",
    "                \n",
    "    return srcIpDict, uniqIPs"
   ]
  },
  {
   "cell_type": "code",
   "execution_count": 10,
   "metadata": {
    "collapsed": true
   },
   "outputs": [],
   "source": [
    "def dictUniquerizer(dictOdictsOlistOlists):\n",
    "    '''\n",
    "    input: dictionary of dictionaries that have a list of lists \n",
    "           ex. srcIpDict[srcip][dstip] = [[sport], [dport], [plen], [protocol]]\n",
    "    output: dictionary of dictionaries with list of lists with unique items in the final sublist\n",
    "    \n",
    "    WARNING: will overwrite your input dictionary. Make a copy if you want to preserve dictOdictsOlistOlists.\n",
    "    '''\n",
    "    #dictCopy\n",
    "    for key in dictOdictsOlistOlists.keys():\n",
    "        for subkey in dictOdictsOlistOlists[key].keys():\n",
    "            for sublist in xrange(len(dictOdictsOlistOlists[key][subkey])):\n",
    "                dictOdictsOlistOlists[key][subkey][sublist] = list(set(dictOdictsOlistOlists[key][subkey][sublist]))\n",
    "    \n",
    "    return dictOdictsOlistOlists"
   ]
  },
  {
   "cell_type": "code",
   "execution_count": 11,
   "metadata": {
    "collapsed": false
   },
   "outputs": [
    {
     "name": "stdout",
     "output_type": "stream",
     "text": [
      "creating dictionary of ip communications\n"
     ]
    }
   ],
   "source": [
    "#TODO: parallelize\n",
    "print 'creating dictionary of ip communications'\n",
    "\n",
    "#comsDicttest, uniqIPstest = srcIpDict(hexSessionstest)\n",
    "comsDict, uniqIPs = srcIpDict(hexSessions)\n",
    "#test\n",
    "comsDict = dictUniquerizer(comsDict)\n",
    "#comsDicttest = dictUniquerizer(comsDicttest)"
   ]
  },
  {
   "cell_type": "markdown",
   "metadata": {},
   "source": [
    "# Adversarial Functions"
   ]
  },
  {
   "cell_type": "markdown",
   "metadata": {},
   "source": [
    "### Directionality adversary"
   ]
  },
  {
   "cell_type": "code",
   "execution_count": 12,
   "metadata": {
    "collapsed": true
   },
   "outputs": [],
   "source": [
    "def ipDirSwitcher(hexSessionList):\n",
    "    '''\n",
    "    switches both ip and mac addresses\n",
    "    input is a list of packets from ONE session\n",
    "    '''\n",
    "    \n",
    "    ipdirsession = []\n",
    "        \n",
    "    for p in hexSessionList:\n",
    "        sourceMAC = p[:12]\n",
    "        destMAC = p[12:24]\n",
    "        sourceIP = p[52:60]\n",
    "        destIP = p[60:68]\n",
    "\n",
    "        ipdirsession.append(destMAC + sourceMAC + p[24:52] + destIP + sourceIP + p[68:])\n",
    "\n",
    "    return ipdirsession"
   ]
  },
  {
   "cell_type": "code",
   "execution_count": 13,
   "metadata": {
    "collapsed": true
   },
   "outputs": [],
   "source": [
    "def portDirSwitcher(hexSessionList):\n",
    "    '''\n",
    "    input is a list of packets from ONE session\n",
    "    '''\n",
    "    \n",
    "    portdirsession = []\n",
    "    \n",
    "    for p in hexSessionList:\n",
    "        sport = p[68:72]\n",
    "        dport = p[72:76]\n",
    "\n",
    "        portdirsession.append(p[:68]+dport+sport+p[76:])\n",
    "\n",
    "    return portdirsession"
   ]
  },
  {
   "cell_type": "markdown",
   "metadata": {},
   "source": [
    "### Leave one swap one"
   ]
  },
  {
   "cell_type": "code",
   "execution_count": 14,
   "metadata": {
    "collapsed": false
   },
   "outputs": [],
   "source": [
    "#TODO: fix the mac switchout\n",
    "def dstIpSwapOut(hexSessionList, dictOcoms, listOuniqIPs):\n",
    "    #srcIpDict[srcip][dstip] = [[sport], [dport], [plen], [protocol]]\n",
    "    \n",
    "    swapSession = []\n",
    "    sourceMAC = hexSessionList[0][:12]#[0] assumes first packet contains true initial direction\n",
    "    destMAC = hexSessionList[0][12:24]\n",
    "    srcip = hexSessionList[0][52:60] \n",
    "    dstip = hexSessionList[0][60:68]\n",
    "    normDstIps = dictOcoms[srcip].keys()+[srcip] #get list of dstIPs that srcIP talks to\n",
    "    abbynormIps = copy(listOuniqIPs)\n",
    "    \n",
    "    for normIp in normDstIps:\n",
    "        abbynormIps.remove(normIp) #remove itself and know dstIPs from list of consideration.\n",
    "    \n",
    "    abbynormDestIp = random.sample(abbynormIps, 1)[0] #get random ip that srcip doesn't talk to\n",
    "\n",
    "    for rawpacket in hexSessionList:\n",
    "        packet = copy(rawpacket)\n",
    "        \n",
    "        if packet[60:68] == dstip:\n",
    "            packet = packet[:60] + abbynormDestIp + packet[68:] #\n",
    "        elif packet[60:68] == srcip:\n",
    "            packet = packet[:52] + abbynormDestIp + packet[60:] #in case direction switches for packet in session\n",
    "            \n",
    "        swapSession.append(packet)\n",
    "\n",
    "    return swapSession\n",
    "\n",
    "\n",
    "#destMAC + sourceMAC + p[24:52] + destIP + sourceIP + p[68:]\n",
    "    "
   ]
  },
  {
   "cell_type": "code",
   "execution_count": 15,
   "metadata": {
    "collapsed": true
   },
   "outputs": [],
   "source": [
    "#def dstPortSwapOneOut(hexSessionList):\n",
    "    #THINK THROUGH\n",
    "    \n",
    "    \n",
    "    \n",
    "    \n",
    "    "
   ]
  },
  {
   "cell_type": "code",
   "execution_count": 16,
   "metadata": {
    "collapsed": true
   },
   "outputs": [],
   "source": [
    "def oneHot(index, granular = 'hex'):\n",
    "    if granular == 'hex':\n",
    "        vecLen = 257\n",
    "    else:\n",
    "        vecLen = 17\n",
    "    \n",
    "    zeroVec = np.zeros(vecLen)\n",
    "    zeroVec[index] = 1.0\n",
    "    \n",
    "    return zeroVec\n",
    " "
   ]
  },
  {
   "cell_type": "code",
   "execution_count": 17,
   "metadata": {
    "collapsed": false
   },
   "outputs": [],
   "source": [
    "def oneSessionEncoder(sessionPackets, hexDict, maxPackets = 2, packetTimeSteps = 100,\n",
    "                       packetReverse = False, charLevel = False, padOldTimeSteps = True):    \n",
    "            \n",
    "    sessionCollect = []\n",
    "    packetCollect = []\n",
    "    \n",
    "    if charLevel:\n",
    "        vecLen = 17\n",
    "    else:\n",
    "        vecLen = 257\n",
    "    \n",
    "    if len(sessionPackets) > maxPackets: #crop the number of sessions to maxPackets\n",
    "        sessionList = copy(sessionPackets[:maxPackets])\n",
    "    else:\n",
    "        sessionList = copy(sessionPackets)\n",
    "\n",
    "    for rawpacket in sessionList:\n",
    "        packet = copy(rawpacket)\n",
    "        packet = packet[32:36]+packet[44:46]+packet[46:48]+packet[52:60]+packet[60:68]+\\\n",
    "                 packet[68:70]+packet[70:72]+packet[72:74]\n",
    "        packet = [hexDict[packet[i:i+2]] for i in xrange(0,len(packet)-2+1,2)]\n",
    "        \n",
    "        #print np.asarray(packet)\n",
    "            \n",
    "        if len(packet) >= packetTimeSteps: #crop packet to length packetTimeSteps\n",
    "            packet = packet[:packetTimeSteps]\n",
    "            packet = packet+[256] #add <EOP> end of packet token\n",
    "        else:\n",
    "            packet = packet+[256] #add <EOP> end of packet token\n",
    "        \n",
    "        packetCollect.append(packet)\n",
    "        \n",
    "        pacMat = np.array([oneHot(x) for x in packet]) #one hot encoding of packet into a matrix\n",
    "        pacMatLen = len(pacMat)\n",
    "        \n",
    "        #padding packet\n",
    "        if packetReverse:\n",
    "            pacMat = pacMat[::-1]\n",
    "\n",
    "        if pacMatLen < packetTimeSteps:\n",
    "            #pad by stacking zeros on top of data so that earlier timesteps do not have information\n",
    "            #padding the packet such that zeros are after the actual info for better translation\n",
    "            if padOldTimeSteps:\n",
    "                pacMat = np.vstack( ( np.zeros((packetTimeSteps-pacMatLen,vecLen)), pacMat) ) \n",
    "            else:\n",
    "                pacMat = np.vstack( (pacMat, np.zeros((packetTimeSteps-pacMatLen,vecLen))) ) \n",
    "\n",
    "        if pacMatLen > packetTimeSteps:\n",
    "            pacMat = pacMat[:packetTimeSteps, :]\n",
    "\n",
    "        sessionCollect.append(pacMat)\n",
    "\n",
    "    #padding session\n",
    "    sessionCollect = np.asarray(sessionCollect, dtype=theano.config.floatX)\n",
    "    numPacketsInSession = sessionCollect.shape[0]\n",
    "    if numPacketsInSession < maxPackets:\n",
    "        #pad sessions to fit the \n",
    "        sessionCollect = np.vstack( (sessionCollect,np.zeros((maxPackets-numPacketsInSession, \n",
    "                                                             packetTimeSteps, vecLen))) )\n",
    "    \n",
    "    return sessionCollect, packetCollect"
   ]
  },
  {
   "cell_type": "markdown",
   "metadata": {},
   "source": [
    "# Learning functions"
   ]
  },
  {
   "cell_type": "code",
   "execution_count": 18,
   "metadata": {
    "collapsed": false
   },
   "outputs": [],
   "source": [
    "def floatX(X):\n",
    "    return np.asarray(X, dtype=theano.config.floatX)\n",
    "\n",
    "def dropout(X, p=0.):\n",
    "    if p != 0:\n",
    "        retain_prob = 1 - p\n",
    "        X = X / retain_prob * srng.binomial(X.shape, p=retain_prob, dtype=theano.config.floatX)\n",
    "    return X\n",
    "\n",
    "# Gradient clipping\n",
    "def clip_norm(g, c, n): \n",
    "    '''n is the norm, c is the threashold, and g is the gradient'''\n",
    "    \n",
    "    if c > 0: \n",
    "        g = T.switch(T.ge(n, c), g*c/n, g) \n",
    "    return g\n",
    "\n",
    "def clip_norms(gs, c):\n",
    "    norm = T.sqrt(sum([T.sum(g**2) for g in gs]))\n",
    "    return [clip_norm(g, c, norm) for g in gs]\n",
    "\n",
    "# Regularizers\n",
    "def max_norm(p, maxnorm = 0.):\n",
    "    if maxnorm > 0:\n",
    "        norms = T.sqrt(T.sum(T.sqr(p), axis=0))\n",
    "        desired = T.clip(norms, 0, maxnorm)\n",
    "        p = p * (desired/ (1e-7 + norms))\n",
    "    return p\n",
    "\n",
    "def gradient_regularize(p, g, l1 = 0., l2 = 0.):\n",
    "    g += p * l2\n",
    "    g += T.sgn(p) * l1\n",
    "    return g\n",
    "\n",
    "def weight_regularize(p, maxnorm = 0.):\n",
    "    p = max_norm(p, maxnorm)\n",
    "    return p\n",
    "\n",
    "def Adam(params, cost, lr=0.0002, b1=0.1, b2=0.001, e=1e-8, l1 = 0., l2 = 0., maxnorm = 0., c = 8):\n",
    "    \n",
    "    updates = []\n",
    "    grads = T.grad(cost, params)\n",
    "    grads = clip_norms(grads, c)\n",
    "    \n",
    "    i = theano.shared(floatX(0.))\n",
    "    i_t = i + 1.\n",
    "    fix1 = 1. - b1**(i_t)\n",
    "    fix2 = 1. - b2**(i_t)\n",
    "    lr_t = lr * (T.sqrt(fix2) / fix1)\n",
    "    \n",
    "    for p, g in zip(params, grads):\n",
    "        m = theano.shared(p.get_value() * 0.)\n",
    "        v = theano.shared(p.get_value() * 0.)\n",
    "        m_t = (b1 * g) + ((1. - b1) * m)\n",
    "        v_t = (b2 * T.sqr(g)) + ((1. - b2) * v)\n",
    "        g_t = m_t / (T.sqrt(v_t) + e)\n",
    "        g_t = gradient_regularize(p, g_t, l1=l1, l2=l2)\n",
    "        p_t = p - (lr_t * g_t)\n",
    "        p_t = weight_regularize(p_t, maxnorm=maxnorm)\n",
    "        \n",
    "        updates.append((m, m_t))\n",
    "        updates.append((v, v_t))\n",
    "        updates.append((p, p_t))\n",
    "    \n",
    "    updates.append((i, i_t))\n",
    "    #if iteration%100 == 0:\n",
    "    #    updates.append((lr, lr*0.93))\n",
    "    #else:\n",
    "    #    updates.append((lr, lr))\n",
    "    \n",
    "    return updates\n",
    "\n",
    "def RMSprop(cost, params, lr = 0.001, l1 = 0., l2 = 0., maxnorm = 0., rho=0.9, epsilon=1e-6, c = 8):\n",
    "    \n",
    "    grads = T.grad(cost, params)\n",
    "    grads = clip_norms(grads, c)\n",
    "    updates = []\n",
    "    \n",
    "    for p, g in zip(params, grads):\n",
    "        g = gradient_regularize(p, g, l1 = l1, l2 = l2)\n",
    "        acc = theano.shared(p.get_value() * 0.)\n",
    "        acc_new = rho * acc + (1 - rho) * g ** 2\n",
    "        updates.append((acc, acc_new))\n",
    "        \n",
    "        updated_p = p - lr * (g / T.sqrt(acc_new + epsilon))\n",
    "        updated_p = weight_regularize(updated_p, maxnorm = maxnorm)\n",
    "        updates.append((p, updated_p))\n",
    "    return updates"
   ]
  },
  {
   "cell_type": "markdown",
   "metadata": {},
   "source": [
    "# Training functions"
   ]
  },
  {
   "cell_type": "code",
   "execution_count": 19,
   "metadata": {
    "collapsed": false
   },
   "outputs": [],
   "source": [
    "def predictClass(predictFun, hexSessionsDict, comsDict, uniqIPs, hexDict,\n",
    "                 numClasses = 4, trainPercent = 0.9, dimIn=257, maxPackets=2,\n",
    "                 packetTimeSteps = 16, padOldTimeSteps=True, batch_sizeClass = 20):\n",
    "    \n",
    "    testCollect = []\n",
    "    predtargets = []\n",
    "    actualtargets = []\n",
    "    hexSessionsKeys = hexSessionsDict.keys()\n",
    "    trainPercent = 0.9\n",
    "    trainIndex = int(len(hexSessionsKeys)*trainPercent)\n",
    "        \n",
    "    for start, end in zip(range(trainIndex, len(hexSessionsKeys), batch_sizeClass),\n",
    "                          range(trainIndex + batch_sizeClass, len(hexSessionsKeys), batch_sizeClass)):\n",
    "        trainingSessions = []\n",
    "        trainingTargets = []\n",
    "        \n",
    "        for trainKey in range(start, end):\n",
    "            sessionForEncoding = list(hexSessionsDict[hexSessionsKeys[trainKey]])\n",
    "\n",
    "            #ENCODE NORMAL SESSION\n",
    "            #oneHotSes = oneSessionEncoder(sessionForEncoding,hexDict = hexDict, packetReverse=packetReverse, \n",
    "            #                              padOldTimeSteps = padOldTimeSteps, maxPackets = maxPackets,\n",
    "            #                              packetTimeSteps = packetTimeSteps)\n",
    "            #trainingSessions.append(oneHotSes[0])\n",
    "            #trainingTargets.append(normalTarget)\n",
    "\n",
    "            #ENCODE ABBY NORMAL SESSION\n",
    "            adversaryList = [sessionForEncoding, \n",
    "                             dstIpSwapOut(sessionForEncoding, comsDict, uniqIPs), \n",
    "                             portDirSwitcher(sessionForEncoding), \n",
    "                             ipDirSwitcher(sessionForEncoding)]\n",
    "            abbyIndex = random.sample(range(len(adversaryList)), 1)[0]\n",
    "            #abbyHexSession = random.sample(range(len(adversaryList), 1)[0]\n",
    "            #abbyHexSession = ipDirSwitcher(sessionForEncoding)\n",
    "            #abbyHexSession = dstIpSwapOut(sessionForEncoding, comsDict, uniqIPs)\n",
    "            #abbyHexSession = portDirSwitcher(sessionForEncoding)\n",
    "            abbyOneHotSes = oneSessionEncoder(adversaryList[abbyIndex],\n",
    "                                              hexDict = hexDict,\n",
    "                                              packetReverse=packetReverse, \n",
    "                                              padOldTimeSteps = padOldTimeSteps, \n",
    "                                              maxPackets = maxPackets, \n",
    "                                              packetTimeSteps = packetTimeSteps)\n",
    "\n",
    "            targetClasses = [0]*numClasses\n",
    "            targetClasses[abbyIndex] = 1\n",
    "            abbyTarget = np.array(targetClasses, dtype=theano.config.floatX)\n",
    "            trainingSessions.append(abbyOneHotSes[0])\n",
    "            trainingTargets.append(abbyTarget)\n",
    "  \n",
    "        #trainingSessions2 = [item for sublist in trainingSessions for item in sublist] #FIX in oneSessionEncoder\n",
    "        sessionsMinibatch = np.asarray(trainingSessions, dtype=theano.config.floatX)\\\n",
    "                                       .reshape((batch_sizeClass*maxPackets, packetTimeSteps, 1, dimIn))\n",
    "        targetsMinibatch = np.asarray(trainingTargets, dtype=theano.config.floatX)\n",
    "\n",
    "        predcostfun = predictFun(sessionsMinibatch)\n",
    "        testCollect.append(np.mean(np.argmax(predcostfun,axis=1) == np.argmax(targetsMinibatch, axis=1)))\n",
    "        \n",
    "        predtargets = predtargets + list(np.argmax(predcostfun,axis=1))\n",
    "        actualtargets = actualtargets + list(np.argmax(targetsMinibatch, axis=1))\n",
    "    \n",
    "    print \"TEST accuracy:         \", np.mean(testCollect)\n",
    "    print\n",
    "\n",
    "    return predtargets, actualtargets, np.mean(testCollect)"
   ]
  },
  {
   "cell_type": "code",
   "execution_count": 20,
   "metadata": {
    "collapsed": true
   },
   "outputs": [],
   "source": [
    "def binaryPrecisionRecall(predictions, targets, numClasses = 4):\n",
    "    for cla in range(numClasses):\n",
    "        \n",
    "        confustop = np.array([])\n",
    "        confusbottom = np.array([])\n",
    "\n",
    "        predictions = np.asarray(predictions).flatten()\n",
    "        targets = np.asarray(targets).flatten()\n",
    "\n",
    "        pred1 = np.where(predictions == cla)\n",
    "        pred0 = np.where(predictions != cla)\n",
    "        target1 = np.where(targets == cla)\n",
    "        target0 = np.where(targets != cla)\n",
    "\n",
    "        truePos = np.intersect1d(pred1[0],target1[0]).shape[0]\n",
    "        trueNeg = np.intersect1d(pred0[0],target0[0]).shape[0]\n",
    "        falsePos = np.intersect1d(pred1[0],target0[0]).shape[0]\n",
    "        falseNeg = np.intersect1d(pred0[0],target1[0]).shape[0]\n",
    "\n",
    "        top = np.append(confustop, (truePos, falsePos))\n",
    "        bottom = np.append(confusbottom, (falseNeg, trueNeg))\n",
    "        confusionMatrix = np.vstack((top, bottom))\n",
    "        \n",
    "        precision  = float(truePos)/(truePos + falsePos + 0.00001) #1 - (how much junk did we give user)\n",
    "        recall = float(truePos)/(truePos + falseNeg + 0.00001) #1 - (how much good stuff did we miss)\n",
    "        f1 = 2*((precision*recall)/(precision+recall+0.00001))\n",
    "        \n",
    "        print 'class '+str(cla)+' precision: ', precision\n",
    "        print 'class '+str(cla)+' recall:    ', recall\n",
    "        print 'class '+str(cla)+' f1:        ', f1\n",
    "        print\n",
    "    \n",
    "        #return confusionMatrix"
   ]
  },
  {
   "cell_type": "code",
   "execution_count": 21,
   "metadata": {
    "collapsed": true
   },
   "outputs": [],
   "source": [
    "def pickleModel(trainedClassifier, file2save2 = None, filePath='/work/notebooks/drawModels/', fileName = 'myModels'):\n",
    "    \n",
    "    if file2save2 == None:\n",
    "        f=file(filePath+fileName+'.save', 'wb')\n",
    "    else:\n",
    "        f=file(filePath+file2save2, 'wb')\n",
    "        \n",
    "    cPickle.dump(trainedClassifier, f, protocol=cPickle.HIGHEST_PROTOCOL)\n",
    "\n",
    "    f.close()\n",
    "    \n",
    "def loadModel(filePath):\n",
    "    file2open = file(filePath, 'rb')\n",
    "    model = cPickle.load(file2open)\n",
    "    file2open.close()\n",
    "    \n",
    "    return model"
   ]
  },
  {
   "cell_type": "markdown",
   "metadata": {},
   "source": [
    "# Unsupervised feature extractor"
   ]
  },
  {
   "cell_type": "markdown",
   "metadata": {},
   "source": [
    "### Initialization for both the unsupervised net and the classifier"
   ]
  },
  {
   "cell_type": "code",
   "execution_count": 27,
   "metadata": {
    "collapsed": false
   },
   "outputs": [],
   "source": [
    "X = T.tensor4('inputs')\n",
    "Y = T.matrix('targets')\n",
    "linewt_init = IsotropicGaussian(wtstd)\n",
    "line_bias = Constant(1.0)\n",
    "rnnwt_init = IsotropicGaussian(wtstd)\n",
    "rnnbias_init = Constant(0.0)\n",
    "classifierWts = IsotropicGaussian(wtstd)\n",
    "\n",
    "###ENCODER\n",
    "if rnnType == 'gru':\n",
    "    rnn = GatedRecurrent(dim=dim, weights_init = rnnwt_init, biases_init = rnnbias_init, name = 'gru')\n",
    "    dimMultiplier = 2\n",
    "else:\n",
    "    rnn = LSTM(dim=dim, weights_init = rnnwt_init, biases_init = rnnbias_init, name = 'lstm')\n",
    "    dimMultiplier = 4\n",
    "\n",
    "fork = Fork(output_names=['linear', 'gates'],\n",
    "            name='fork', input_dim=dimIn, output_dims=[dim, dim * dimMultiplier], \n",
    "            weights_init = linewt_init, biases_init = line_bias)\n",
    "\n",
    "###CONTEXT\n",
    "if rnnType == 'gru':\n",
    "    rnnContext = GatedRecurrent(dim=dim, weights_init = rnnwt_init, \n",
    "                                biases_init = rnnbias_init, name = 'gruContext')\n",
    "else:\n",
    "    rnnContext = LSTM(dim=dim, weights_init = rnnwt_init, biases_init = rnnbias_init, \n",
    "                      name = 'lstmContext')\n",
    "\n",
    "forkContext = Fork(output_names=['linearContext', 'gatesContext'],\n",
    "            name='forkContext', input_dim=dim, output_dims=[dim, dim * dimMultiplier], \n",
    "            weights_init = linewt_init, biases_init = line_bias)\n",
    "\n",
    "\n",
    "\n",
    "forkDec = Fork(output_names=['linear', 'gates'],\n",
    "            name='forkDec', input_dim=dim, output_dims=[dim, dim*dimMultiplier], \n",
    "            weights_init = linewt_init, biases_init = line_bias)\n",
    "\n",
    "#CLASSIFIER\n",
    "bmlp = BatchNormalizedMLP( activations=[Logistic(),Logistic()], \n",
    "           dims=[dim, dim, numClasses],\n",
    "           weights_init=classifierWts,\n",
    "           biases_init=Constant(0.0001) )\n",
    "\n",
    "#initialize the weights in all the functions\n",
    "fork.initialize()\n",
    "rnn.initialize()\n",
    "\n",
    "forkContext.initialize()\n",
    "rnnContext.initialize()\n",
    "\n",
    "forkDec.initialize()\n",
    "bmlp.initialize()"
   ]
  },
  {
   "cell_type": "markdown",
   "metadata": {},
   "source": [
    "# Classifier"
   ]
  },
  {
   "cell_type": "markdown",
   "metadata": {},
   "source": [
    "### Classifier graph"
   ]
  },
  {
   "cell_type": "code",
   "execution_count": 28,
   "metadata": {
    "collapsed": false
   },
   "outputs": [
    {
     "name": "stdout",
     "output_type": "stream",
     "text": [
      "compiling functions you talented soul\n",
      "finished compiling\n"
     ]
    }
   ],
   "source": [
    "def onestepEnc(X):\n",
    "    data1, data2 = fork.apply(X) \n",
    "\n",
    "    if rnnType == 'gru':\n",
    "        hEnc = rnn.apply(data1, data2) \n",
    "    else:\n",
    "        hEnc, _ = rnn.apply(data2)\n",
    "    \n",
    "    return hEnc\n",
    "\n",
    "hEnc, _ = theano.scan(onestepEnc, X)\n",
    "hEncReshape = T.reshape(hEnc[:,-1], (batch_sizeClass,maxPackets,1,dim))\n",
    "\n",
    "\n",
    "#TODO: BIDIRECTIONAL PARAM\n",
    "def onestepContext(hEncReshape):\n",
    "    \n",
    "    data3, data4 = forkContext.apply(hEncReshape)\n",
    "    \n",
    "    if rnnType == 'gru':\n",
    "        hContext = rnnContext.apply(data3, data4)\n",
    "    else:\n",
    "        hinitContext, _ = rnnContext.apply(data4)\n",
    "        hContext = hinitContext #hContext shape = (batch_size, maxPackets, dim)\n",
    "\n",
    "    return hContext\n",
    "\n",
    "\n",
    "hContext, _ = theano.scan(onestepContext, hEncReshape)\n",
    "hContextReshape = T.reshape(hContext[:,-1], (batch_sizeClass,dim))\n",
    "\n",
    "data5, _ = forkDec.apply(hContextReshape)\n",
    "\n",
    "pyx = bmlp.apply(data5)\n",
    "softmax = Softmax()\n",
    "softoutClass = softmax.apply(pyx)\n",
    "costClass = T.mean(CategoricalCrossEntropy().apply(Y, softoutClass))\n",
    "\n",
    "#CREATE GRAPH\n",
    "cgClass = ComputationGraph([costClass])\n",
    "paramsClass = VariableFilter(roles = [PARAMETER])(cgClass.variables)\n",
    "updatesClass = Adam(paramsClass, costClass, learning_rateClass, c=clippings) \n",
    "#updatesClass = RMSprop(costClass, paramsClass, learning_rateClass, c=clippings)\n",
    "\n",
    "#print 'grad compiling'\n",
    "#gradients = T.grad(costClass, paramsClass)\n",
    "#gradients = clip_norms(gradients, clippings)\n",
    "#gradientFun = theano.function([X,Y], gradients, allow_input_downcast=True)\n",
    "#print 'finish with grads'\n",
    "\n",
    "print 'compiling functions you talented soul'\n",
    "classifierTrain = theano.function([X,Y], [costClass, hEnc, hContext, pyx, softoutClass], \n",
    "                                  updates=updatesClass, allow_input_downcast=True)\n",
    "classifierPredict = theano.function([X], softoutClass, allow_input_downcast=True)\n",
    "print 'finished compiling'"
   ]
  },
  {
   "cell_type": "markdown",
   "metadata": {},
   "source": [
    "### Classifier training"
   ]
  },
  {
   "cell_type": "code",
   "execution_count": 29,
   "metadata": {
    "collapsed": false,
    "scrolled": true
   },
   "outputs": [
    {
     "name": "stdout",
     "output_type": "stream",
     "text": [
      "you are amazing\n",
      "\n",
      "   Iteration:  200\n",
      "   Cost:  1.38511\n",
      "   TRAIN accuracy:  0.2725\n",
      "\n",
      "\n",
      "   Iteration:  400\n",
      "   Cost:  1.38727\n",
      "   TRAIN accuracy:  0.2175\n",
      "\n",
      "TEST accuracy:          0.243181818182\n",
      "\n",
      "class 0 precision:  0.0\n",
      "class 0 recall:     0.0\n",
      "class 0 f1:         0.0\n",
      "\n",
      "class 1 precision:  0.0\n",
      "class 1 recall:     0.0\n",
      "class 1 f1:         0.0\n",
      "\n",
      "class 2 precision:  0.2431818168\n",
      "class 2 recall:     0.999999976636\n",
      "class 2 f1:         0.391221712374\n",
      "\n",
      "class 3 precision:  0.0\n",
      "class 3 recall:     0.0\n",
      "class 3 f1:         0.0\n",
      "\n",
      "\n",
      "   Iteration:  600\n",
      "   Cost:  1.38722\n",
      "   TRAIN accuracy:  0.2525\n",
      "\n",
      "Epoch:  0\n",
      "Epoch cost average:  1.38664\n",
      "Epoch TRAIN accuracy:  0.218\n",
      "\n",
      "   Iteration:  800\n",
      "   Cost:  1.38657\n",
      "   TRAIN accuracy:  0.1975\n",
      "\n",
      "\n",
      "   Iteration:  1000\n",
      "   Cost:  1.27058\n",
      "   TRAIN accuracy:  0.41\n",
      "\n",
      "TEST accuracy:          0.445454545455\n",
      "\n",
      "class 0 precision:  0.0\n",
      "class 0 recall:     0.0\n",
      "class 0 f1:         0.0\n",
      "\n",
      "class 1 precision:  0.0\n",
      "class 1 recall:     0.0\n",
      "class 1 f1:         0.0\n",
      "\n",
      "class 2 precision:  0.551128810742\n",
      "class 2 recall:     0.934684663633\n",
      "class 2 f1:         0.693395488725\n",
      "\n",
      "class 3 precision:  0.366434951674\n",
      "class 3 recall:     0.848275842568\n",
      "class 3 f1:         0.511784961369\n",
      "\n",
      "\n",
      "   Iteration:  1200\n",
      "   Cost:  1.22204\n",
      "   TRAIN accuracy:  0.455\n",
      "\n",
      "\n",
      "   Iteration:  1400\n",
      "   Cost:  1.21646\n",
      "   TRAIN accuracy:  0.4325\n",
      "\n"
     ]
    },
    {
     "ename": "KeyboardInterrupt",
     "evalue": "",
     "output_type": "error",
     "traceback": [
      "\u001b[1;31m---------------------------------------------------------------------------\u001b[0m",
      "\u001b[1;31mKeyboardInterrupt\u001b[0m                         Traceback (most recent call last)",
      "\u001b[1;32m<ipython-input-29-97411e751d74>\u001b[0m in \u001b[0;36m<module>\u001b[1;34m()\u001b[0m\n\u001b[0;32m     61\u001b[0m         \u001b[0mtargetsMinibatch\u001b[0m \u001b[1;33m=\u001b[0m \u001b[0mnp\u001b[0m\u001b[1;33m.\u001b[0m\u001b[0masarray\u001b[0m\u001b[1;33m(\u001b[0m\u001b[0mtrainingTargets\u001b[0m\u001b[1;33m)\u001b[0m\u001b[1;33m\u001b[0m\u001b[0m\n\u001b[0;32m     62\u001b[0m \u001b[1;33m\u001b[0m\u001b[0m\n\u001b[1;32m---> 63\u001b[1;33m         \u001b[0mcostfun\u001b[0m \u001b[1;33m=\u001b[0m \u001b[0mclassifierTrain\u001b[0m\u001b[1;33m(\u001b[0m\u001b[0msessionsMinibatch\u001b[0m\u001b[1;33m,\u001b[0m \u001b[0mtargetsMinibatch\u001b[0m\u001b[1;33m)\u001b[0m\u001b[1;33m\u001b[0m\u001b[0m\n\u001b[0m\u001b[0;32m     64\u001b[0m \u001b[1;33m\u001b[0m\u001b[0m\n\u001b[0;32m     65\u001b[0m         \u001b[0mcostCollect\u001b[0m\u001b[1;33m.\u001b[0m\u001b[0mappend\u001b[0m\u001b[1;33m(\u001b[0m\u001b[0mcostfun\u001b[0m\u001b[1;33m[\u001b[0m\u001b[1;36m0\u001b[0m\u001b[1;33m]\u001b[0m\u001b[1;33m)\u001b[0m\u001b[1;33m\u001b[0m\u001b[0m\n",
      "\u001b[1;32m/opt/conda/envs/python2/lib/python2.7/site-packages/theano/compile/function_module.pyc\u001b[0m in \u001b[0;36m__call__\u001b[1;34m(self, *args, **kwargs)\u001b[0m\n\u001b[0;32m    857\u001b[0m         \u001b[0mt0_fn\u001b[0m \u001b[1;33m=\u001b[0m \u001b[0mtime\u001b[0m\u001b[1;33m.\u001b[0m\u001b[0mtime\u001b[0m\u001b[1;33m(\u001b[0m\u001b[1;33m)\u001b[0m\u001b[1;33m\u001b[0m\u001b[0m\n\u001b[0;32m    858\u001b[0m         \u001b[1;32mtry\u001b[0m\u001b[1;33m:\u001b[0m\u001b[1;33m\u001b[0m\u001b[0m\n\u001b[1;32m--> 859\u001b[1;33m             \u001b[0moutputs\u001b[0m \u001b[1;33m=\u001b[0m \u001b[0mself\u001b[0m\u001b[1;33m.\u001b[0m\u001b[0mfn\u001b[0m\u001b[1;33m(\u001b[0m\u001b[1;33m)\u001b[0m\u001b[1;33m\u001b[0m\u001b[0m\n\u001b[0m\u001b[0;32m    860\u001b[0m         \u001b[1;32mexcept\u001b[0m \u001b[0mException\u001b[0m\u001b[1;33m:\u001b[0m\u001b[1;33m\u001b[0m\u001b[0m\n\u001b[0;32m    861\u001b[0m             \u001b[1;32mif\u001b[0m \u001b[0mhasattr\u001b[0m\u001b[1;33m(\u001b[0m\u001b[0mself\u001b[0m\u001b[1;33m.\u001b[0m\u001b[0mfn\u001b[0m\u001b[1;33m,\u001b[0m \u001b[1;34m'position_of_error'\u001b[0m\u001b[1;33m)\u001b[0m\u001b[1;33m:\u001b[0m\u001b[1;33m\u001b[0m\u001b[0m\n",
      "\u001b[1;32m/opt/conda/envs/python2/lib/python2.7/site-packages/theano/scan_module/scan_op.pyc\u001b[0m in \u001b[0;36mrval\u001b[1;34m(p, i, o, n, allow_gc)\u001b[0m\n\u001b[0;32m    949\u001b[0m         def rval(p=p, i=node_input_storage, o=node_output_storage, n=node,\n\u001b[0;32m    950\u001b[0m                  allow_gc=allow_gc):\n\u001b[1;32m--> 951\u001b[1;33m             \u001b[0mr\u001b[0m \u001b[1;33m=\u001b[0m \u001b[0mp\u001b[0m\u001b[1;33m(\u001b[0m\u001b[0mn\u001b[0m\u001b[1;33m,\u001b[0m \u001b[1;33m[\u001b[0m\u001b[0mx\u001b[0m\u001b[1;33m[\u001b[0m\u001b[1;36m0\u001b[0m\u001b[1;33m]\u001b[0m \u001b[1;32mfor\u001b[0m \u001b[0mx\u001b[0m \u001b[1;32min\u001b[0m \u001b[0mi\u001b[0m\u001b[1;33m]\u001b[0m\u001b[1;33m,\u001b[0m \u001b[0mo\u001b[0m\u001b[1;33m)\u001b[0m\u001b[1;33m\u001b[0m\u001b[0m\n\u001b[0m\u001b[0;32m    952\u001b[0m             \u001b[1;32mfor\u001b[0m \u001b[0mo\u001b[0m \u001b[1;32min\u001b[0m \u001b[0mnode\u001b[0m\u001b[1;33m.\u001b[0m\u001b[0moutputs\u001b[0m\u001b[1;33m:\u001b[0m\u001b[1;33m\u001b[0m\u001b[0m\n\u001b[0;32m    953\u001b[0m                 \u001b[0mcompute_map\u001b[0m\u001b[1;33m[\u001b[0m\u001b[0mo\u001b[0m\u001b[1;33m]\u001b[0m\u001b[1;33m[\u001b[0m\u001b[1;36m0\u001b[0m\u001b[1;33m]\u001b[0m \u001b[1;33m=\u001b[0m \u001b[0mTrue\u001b[0m\u001b[1;33m\u001b[0m\u001b[0m\n",
      "\u001b[1;32m/opt/conda/envs/python2/lib/python2.7/site-packages/theano/scan_module/scan_op.pyc\u001b[0m in \u001b[0;36m<lambda>\u001b[1;34m(node, args, outs)\u001b[0m\n\u001b[0;32m    938\u001b[0m                         \u001b[0margs\u001b[0m\u001b[1;33m,\u001b[0m\u001b[1;33m\u001b[0m\u001b[0m\n\u001b[0;32m    939\u001b[0m                         \u001b[0mouts\u001b[0m\u001b[1;33m,\u001b[0m\u001b[1;33m\u001b[0m\u001b[0m\n\u001b[1;32m--> 940\u001b[1;33m                         self, node)\n\u001b[0m\u001b[0;32m    941\u001b[0m         \u001b[1;32mexcept\u001b[0m \u001b[1;33m(\u001b[0m\u001b[0mImportError\u001b[0m\u001b[1;33m,\u001b[0m \u001b[0mtheano\u001b[0m\u001b[1;33m.\u001b[0m\u001b[0mgof\u001b[0m\u001b[1;33m.\u001b[0m\u001b[0mcmodule\u001b[0m\u001b[1;33m.\u001b[0m\u001b[0mMissingGXX\u001b[0m\u001b[1;33m)\u001b[0m\u001b[1;33m:\u001b[0m\u001b[1;33m\u001b[0m\u001b[0m\n\u001b[0;32m    942\u001b[0m             \u001b[0mp\u001b[0m \u001b[1;33m=\u001b[0m \u001b[0mself\u001b[0m\u001b[1;33m.\u001b[0m\u001b[0mexecute\u001b[0m\u001b[1;33m\u001b[0m\u001b[0m\n",
      "\u001b[1;32mtheano/scan_module/scan_perform.pyx\u001b[0m in \u001b[0;36mtheano.scan_module.scan_perform.perform (/home/bradh/.theano/compiledir_Linux-4.2--generic-x86_64-with-debian-jessie-sid-x86_64-2.7.12-64/scan_perform/mod.cpp:4193)\u001b[1;34m()\u001b[0m\n",
      "\u001b[1;32m/opt/conda/envs/python2/lib/python2.7/site-packages/theano/gof/op.pyc\u001b[0m in \u001b[0;36mrval\u001b[1;34m(p, i, o, n)\u001b[0m\n\u001b[0;32m    909\u001b[0m         \u001b[1;32mif\u001b[0m \u001b[0mparams\u001b[0m \u001b[1;32mis\u001b[0m \u001b[0mgraph\u001b[0m\u001b[1;33m.\u001b[0m\u001b[0mNoParams\u001b[0m\u001b[1;33m:\u001b[0m\u001b[1;33m\u001b[0m\u001b[0m\n\u001b[0;32m    910\u001b[0m             \u001b[1;31m# default arguments are stored in the closure of `rval`\u001b[0m\u001b[1;33m\u001b[0m\u001b[1;33m\u001b[0m\u001b[0m\n\u001b[1;32m--> 911\u001b[1;33m             \u001b[1;32mdef\u001b[0m \u001b[0mrval\u001b[0m\u001b[1;33m(\u001b[0m\u001b[0mp\u001b[0m\u001b[1;33m=\u001b[0m\u001b[0mp\u001b[0m\u001b[1;33m,\u001b[0m \u001b[0mi\u001b[0m\u001b[1;33m=\u001b[0m\u001b[0mnode_input_storage\u001b[0m\u001b[1;33m,\u001b[0m \u001b[0mo\u001b[0m\u001b[1;33m=\u001b[0m\u001b[0mnode_output_storage\u001b[0m\u001b[1;33m,\u001b[0m \u001b[0mn\u001b[0m\u001b[1;33m=\u001b[0m\u001b[0mnode\u001b[0m\u001b[1;33m)\u001b[0m\u001b[1;33m:\u001b[0m\u001b[1;33m\u001b[0m\u001b[0m\n\u001b[0m\u001b[0;32m    912\u001b[0m                 \u001b[0mr\u001b[0m \u001b[1;33m=\u001b[0m \u001b[0mp\u001b[0m\u001b[1;33m(\u001b[0m\u001b[0mn\u001b[0m\u001b[1;33m,\u001b[0m \u001b[1;33m[\u001b[0m\u001b[0mx\u001b[0m\u001b[1;33m[\u001b[0m\u001b[1;36m0\u001b[0m\u001b[1;33m]\u001b[0m \u001b[1;32mfor\u001b[0m \u001b[0mx\u001b[0m \u001b[1;32min\u001b[0m \u001b[0mi\u001b[0m\u001b[1;33m]\u001b[0m\u001b[1;33m,\u001b[0m \u001b[0mo\u001b[0m\u001b[1;33m)\u001b[0m\u001b[1;33m\u001b[0m\u001b[0m\n\u001b[0;32m    913\u001b[0m                 \u001b[1;32mfor\u001b[0m \u001b[0mo\u001b[0m \u001b[1;32min\u001b[0m \u001b[0mnode\u001b[0m\u001b[1;33m.\u001b[0m\u001b[0moutputs\u001b[0m\u001b[1;33m:\u001b[0m\u001b[1;33m\u001b[0m\u001b[0m\n",
      "\u001b[1;31mKeyboardInterrupt\u001b[0m: "
     ]
    }
   ],
   "source": [
    "hexSessionsKeys = hexSessions.keys()\n",
    "trainIndex = int(len(hexSessionsKeys)*trainPercent)\n",
    "#random.shuffle(hexSessionsKeys) #not needed because of time orientation of data?\n",
    "\n",
    "epochCost = []\n",
    "gradNorms = []\n",
    "trainAcc = []\n",
    "testAcc = []\n",
    "\n",
    "#normalTarget = np.array([0,1], dtype=theano.config.floatX)\n",
    "#abbyTarget = np.array([1,0], dtype=theano.config.floatX)\n",
    "costCollect = []\n",
    "trainCollect = []\n",
    "\n",
    "iteration = 0\n",
    "#epoch\n",
    "for epoch in xrange(epochs):\n",
    "\n",
    "    #iteration/minibatch\n",
    "    for start, end in zip(range(0, trainIndex,batch_sizeClass),\n",
    "                          range(batch_sizeClass, trainIndex, batch_sizeClass)):\n",
    "        \n",
    "        trainingTargets = []\n",
    "        trainingSessions = []\n",
    "        \n",
    "        #create one minibatch with 0.5 normal and 0.5 abby normal traffic\n",
    "        for trainKey in range(start, end):\n",
    "            sessionForEncoding = list(hexSessions[hexSessions.keys()[trainKey]])\n",
    "            \n",
    "            #encode a normal session\n",
    "            #oneHotSes = oneSessionEncoder(sessionForEncoding,hexDict = hexDict, packetReverse=packetReverse, \n",
    "            #                              padOldTimeSteps = padOldTimeSteps, maxPackets = maxPackets,\n",
    "            #                              packetTimeSteps = packetTimeSteps)\n",
    "            #trainingSessions.append(oneHotSes[0])\n",
    "            #trainingTargets.append(normalTarget)\n",
    "            \n",
    "            #encode an abby normal session\n",
    "            adversaryList = [sessionForEncoding, \n",
    "                             dstIpSwapOut(sessionForEncoding, comsDict, uniqIPs), \n",
    "                             portDirSwitcher(sessionForEncoding), \n",
    "                             ipDirSwitcher(sessionForEncoding)]\n",
    "            abbyIndex = random.sample(range(len(adversaryList)), 1)[0]\n",
    "            #abbyHexSession = random.sample(range(len(adversaryList), 1)[0]\n",
    "            #abbyHexSession = ipDirSwitcher(sessionForEncoding)\n",
    "            #abbyHexSession = dstIpSwapOut(sessionForEncoding, comsDict, uniqIPs)\n",
    "            #abbyHexSession = portDirSwitcher(sessionForEncoding)\n",
    "            abbyOneHotSes = oneSessionEncoder(adversaryList[abbyIndex],\n",
    "                                              hexDict = hexDict,\n",
    "                                              packetReverse=packetReverse, \n",
    "                                              padOldTimeSteps = padOldTimeSteps, \n",
    "                                              maxPackets = maxPackets, \n",
    "                                              packetTimeSteps = packetTimeSteps)\n",
    "            \n",
    "            targetClasses = [0]*numClasses\n",
    "            targetClasses[abbyIndex] = 1\n",
    "            abbyTarget = np.array(targetClasses, dtype=theano.config.floatX)\n",
    "            trainingSessions.append(abbyOneHotSes[0])\n",
    "            trainingTargets.append(abbyTarget)\n",
    "            \n",
    "        sessionsMinibatch = np.asarray(trainingSessions).reshape((batch_sizeClass*maxPackets, packetTimeSteps, 1, dimIn))\n",
    "        targetsMinibatch = np.asarray(trainingTargets)\n",
    "    \n",
    "        costfun = classifierTrain(sessionsMinibatch, targetsMinibatch)\n",
    "        \n",
    "        costCollect.append(costfun[0])\n",
    "        trainCollect.append(np.mean(np.argmax(costfun[-1],axis=1) == np.argmax(targetsMinibatch, axis=1)))\n",
    "\n",
    "        iteration+=1\n",
    "        \n",
    "        if iteration == 1:\n",
    "            print 'you are amazing'\n",
    "             \n",
    "        \n",
    "        if iteration%200 == 0:\n",
    "            print\n",
    "            print '   Iteration: ', iteration\n",
    "            print '   Cost: ', np.mean(costCollect[-20:])\n",
    "            print '   TRAIN accuracy: ', np.mean(trainCollect[-20:])\n",
    "            print\n",
    "            \n",
    "            \n",
    "            #print costfun[-1]\n",
    "            #grads = gradientFun(sessionsMinibatch, targetsMinibatch)\n",
    "            #for gra in grads:\n",
    "            #    print '  gradient norms: ', np.linalg.norm(gra)\n",
    "            np.savetxt('/data/fs4/home/bradh/outputs/'+runname+\"_TRAIN.csv\", trainCollect[::50], delimiter=\",\")\n",
    "            np.savetxt('/data/fs4/home/bradh/outputs/'+runname+\"_COST.csv\", costCollect[::50], delimiter=\",\")\n",
    "\n",
    "        #testing accuracy\n",
    "        if iteration%500 == 0:\n",
    "            predtar, acttar, testCollect = predictClass(classifierPredict, hexSessions, comsDict, uniqIPs, hexDict,\n",
    "                                                     numClasses, trainPercent, dimIn, maxPackets, packetTimeSteps,\n",
    "                                                     padOldTimeSteps, batch_sizeClass)\n",
    "            \n",
    "            binaryPrecisionRecall(predtar, acttar)\n",
    "            \n",
    "            testAcc.append(testCollect)\n",
    "            np.savetxt('/data/fs4/home/bradh/outputs/'+runname+\"_TEST.csv\", testAcc, delimiter=\",\")\n",
    "            \n",
    "        #save the models\n",
    "        if iteration%1500 == 0:\n",
    "            pickleModel(classifierTrain, filePath='/data/fs4/home/bradh/outputs/',\n",
    "                        fileName=runname+'TRAIN'+str(iteration))\n",
    "            pickleModel(classifierPredict, filePath='/data/fs4/home/bradh/outputs/',\n",
    "                        fileName=runname+'PREDICT'+str(iteration))\n",
    "    \n",
    "    epochCost.append(np.mean(costCollect[-50:]))\n",
    "    trainAcc.append(np.mean(trainCollect[-50:]))\n",
    "    print 'Epoch: ', epoch\n",
    "    print 'Epoch cost average: ', epochCost[-1]\n",
    "    print 'Epoch TRAIN accuracy: ', trainAcc[-1]"
   ]
  },
  {
   "cell_type": "code",
   "execution_count": null,
   "metadata": {
    "collapsed": true
   },
   "outputs": [],
   "source": []
  },
  {
   "cell_type": "code",
   "execution_count": null,
   "metadata": {
    "collapsed": true
   },
   "outputs": [],
   "source": []
  },
  {
   "cell_type": "code",
   "execution_count": null,
   "metadata": {
    "collapsed": true
   },
   "outputs": [],
   "source": []
  },
  {
   "cell_type": "code",
   "execution_count": null,
   "metadata": {
    "collapsed": true
   },
   "outputs": [],
   "source": []
  },
  {
   "cell_type": "code",
   "execution_count": null,
   "metadata": {
    "collapsed": true
   },
   "outputs": [],
   "source": []
  },
  {
   "cell_type": "code",
   "execution_count": null,
   "metadata": {
    "collapsed": true
   },
   "outputs": [],
   "source": []
  },
  {
   "cell_type": "code",
   "execution_count": null,
   "metadata": {
    "collapsed": true
   },
   "outputs": [],
   "source": []
  },
  {
   "cell_type": "code",
   "execution_count": null,
   "metadata": {
    "collapsed": true
   },
   "outputs": [],
   "source": []
  },
  {
   "cell_type": "code",
   "execution_count": 32,
   "metadata": {
    "collapsed": true
   },
   "outputs": [],
   "source": [
    "classifierPredict = loadModel('/data/fs4/home/bradh/outputs/hredClassify4FullPacketsPREDICT61500.save')"
   ]
  },
  {
   "cell_type": "code",
   "execution_count": 33,
   "metadata": {
    "collapsed": false
   },
   "outputs": [
    {
     "name": "stdout",
     "output_type": "stream",
     "text": [
      "TEST accuracy:          0.942045454545\n",
      "\n"
     ]
    }
   ],
   "source": [
    "predtar, acttar, acc  = predictClass(classifierPredict, hexSessions, comsDict, uniqIPs, hexDict,\n",
    "                               numClasses, trainPercent, dimIn, maxPackets, packetTimeSteps,\n",
    "                               padOldTimeSteps, batch_sizeClass)"
   ]
  },
  {
   "cell_type": "code",
   "execution_count": 34,
   "metadata": {
    "collapsed": false
   },
   "outputs": [
    {
     "name": "stdout",
     "output_type": "stream",
     "text": [
      "class 0 precision:  0.951156787888\n",
      "class 0 recall:     0.833333314565\n",
      "class 0 f1:         0.888350342633\n",
      "\n",
      "class 1 precision:  0.846481858284\n",
      "class 1 recall:     0.945238072732\n",
      "class 1 f1:         0.89313335283\n",
      "\n",
      "class 2 precision:  0.99295772317\n",
      "class 2 recall:     0.99295772317\n",
      "class 2 f1:         0.992952723195\n",
      "\n",
      "class 3 precision:  0.983193256656\n",
      "class 3 recall:     0.995744659665\n",
      "class 3 f1:         0.989424154784\n",
      "\n"
     ]
    }
   ],
   "source": [
    "binaryPrecisionRecall(predtar, acttar)"
   ]
  },
  {
   "cell_type": "code",
   "execution_count": null,
   "metadata": {
    "collapsed": true
   },
   "outputs": [],
   "source": []
  },
  {
   "cell_type": "code",
   "execution_count": null,
   "metadata": {
    "collapsed": true
   },
   "outputs": [],
   "source": []
  },
  {
   "cell_type": "code",
   "execution_count": null,
   "metadata": {
    "collapsed": false,
    "scrolled": true
   },
   "outputs": [],
   "source": [
    "def oneSessionTokenized(sessionDict, hexDict, packetTimeSteps=50):\n",
    "\n",
    "    dstMac = []\n",
    "    srcMac = []\n",
    "    firstType = []\n",
    "    ihl = []\n",
    "    tos = []\n",
    "    firLen = []\n",
    "    firId = []\n",
    "    frag = []\n",
    "    ttl = []\n",
    "    protocol = []\n",
    "    firCheck = []\n",
    "    srcip = []\n",
    "    dstip = []\n",
    "    sport = []\n",
    "    dport = []\n",
    "    \n",
    "    i=0\n",
    "    for key in sessionDict.keys():\n",
    "        sessionPackets = sessionDict[key]\n",
    "        \n",
    "        #if len(sessionPackets) > maxPackets: #crop the number of sessions to maxPackets\n",
    "        #    sessionList = sessionPackets[:maxPackets]\n",
    "        #else:\n",
    "        #    sessionList = sessionPackets\n",
    "\n",
    "        for packet in sessionPackets:\n",
    "            \n",
    "            dstMac.append(packet[0:12]) \n",
    "            srcMac.append(packet[12:24]) \n",
    "            firstType.append(packet[24:28])\n",
    "            ihl.append(packet[28:30]) \n",
    "            tos.append(packet[30:32])\n",
    "            firLen.append(packet[32:36])\n",
    "            firId.append(packet[36:40]) \n",
    "            frag.append(packet[40:44]) \n",
    "            ttl.append(packet[44:46])\n",
    "            protocol.append(packet[46:48])\n",
    "            firCheck.append(packet[48:52]) \n",
    "            srcip.append(packet[52:60])\n",
    "            dstip.append(packet[60:68])\n",
    "            sport.append(packet[68:72])\n",
    "            dport.append(packet[72:76])\n",
    "            \n",
    "            i+=1\n",
    "    print i\n",
    "    return np.asarray(dstMac), np.asarray(srcMac),np.asarray(firstType),np.asarray(ihl),np.asarray(tos),\\\n",
    "           np.asarray(firLen),np.asarray(firId),np.asarray(frag),np.asarray(ttl),np.asarray(protocol),\\\n",
    "           np.asarray(firCheck),np.asarray(srcip),np.asarray(dstip), np.asarray(sport), np.asarray(dport)\n",
    "\n",
    "netstats  = oneSessionTokenized(hexSessions, hexDict)\n",
    "\n",
    "indx = ['dstMac', 'srcMac', 'firstType', 'ihl', 'tos', 'firLen', 'firId', 'frag', 'ttl', 'protocol', 'firCheck',\n",
    "       'srcip', 'dstip', 'sport', 'dport']\n",
    "for num in range(len(indx)):\n",
    "    print indx[num], len(np.unique(netstats[num]))"
   ]
  },
  {
   "cell_type": "markdown",
   "metadata": {
    "collapsed": true
   },
   "source": [
    "packet = hexSessions[hexSessions.keys()[1]][1]\n",
    "\n",
    "coll = []\n",
    "for key in hexSessions.keys():\n",
    "    sessionPackets = hexSessions[key]\n",
    "    for packet in sessionPackets:\n",
    "        coll.append(packet[32:36]+packet[44:46]+packet[46:48]+packet[52:60]+packet[60:68]+packet[68:70]+packet[70:72]+\n",
    "                   packet[72:74])\n",
    "\n",
    "np.unique(coll).shape"
   ]
  },
  {
   "cell_type": "markdown",
   "metadata": {
    "collapsed": false
   },
   "source": [
    "#turns the sessions into a dictionary key = session_number, val = list of packages in hex\n",
    "minPackets = 3\n",
    "\n",
    "def hexSessionDictCreator(scapySessions, minPackets = 2):\n",
    "\n",
    "    hexSessions = OrderedDict()\n",
    "    i=0\n",
    "    for k,v in sessionPrep.items(): # v is the session\n",
    "        \n",
    "        if len(v) < minPackets:\n",
    "            pass\n",
    "        \n",
    "        else:\n",
    "            scpcaps = []    \n",
    "            \n",
    "            for p in v: #p is the individual packet in the session  \n",
    "                \n",
    "                try: #getting rid of payload\n",
    "                    rawindex = len(p[Raw]) \n",
    "                    #payloadLens.append(rawindex)\n",
    "                    scpcaps.append(binascii.hexlify(str(p.original)[:-rawindex])) #turn it into hex\n",
    "                \n",
    "                except: #if no payload\n",
    "                    scpcaps.append(binascii.hexlify(str(p.original)))\n",
    "    \n",
    "            hexSessions['session_' + str(i)] = scpcaps\n",
    "            i+=1\n",
    "    #assert that all sessions have len of at least minPackets\n",
    "    return hexSessions"
   ]
  },
  {
   "cell_type": "markdown",
   "metadata": {
    "collapsed": false
   },
   "source": [
    "hexSessionstest = hexSessionDictCreator(sessionPrep, minPackets=minPackets)"
   ]
  },
  {
   "cell_type": "code",
   "execution_count": null,
   "metadata": {
    "collapsed": true
   },
   "outputs": [],
   "source": [
    "adversaryList = [dstIpSwapOut(sessionForEncoding, comsDict, uniqIPs), portDirSwitcher(sessionForEncoding), \n",
    "                 ipDirSwitcher(sessionForEncoding)]\n",
    "\n",
    "abbyHexSession = random.sample(adversaryList, 1)[0]\n"
   ]
  },
  {
   "cell_type": "code",
   "execution_count": null,
   "metadata": {
    "collapsed": false
   },
   "outputs": [],
   "source": [
    "#testing for generalization\n",
    "\n",
    "testCollect = []\n",
    "for start, end in zip(range(trainIndex, len(hexSessionsKeys), batch_sizeClass/2),\n",
    "                      range(trainIndex + batch_sizeClass/2, len(hexSessionsKeys), batch_sizeClass/2)):\n",
    "    trainingTargets = []\n",
    "    trainingSessions = []\n",
    "    for trainKey in range(start, end):\n",
    "        sessionForEncoding = hexSessions[hexSessions.keys()[trainKey]]\n",
    "\n",
    "        #encode a normal session\n",
    "        oneHotSes = oneSessionEncoder(sessionForEncoding,hexDict = hexDict, packetReverse=packetReverse, \n",
    "                                      padOldTimeSteps = padOldTimeSteps, maxPackets = maxPackets,\n",
    "                                      packetTimeSteps = packetTimeSteps)\n",
    "        trainingSessions.append(oneHotSes[0])\n",
    "        trainingTargets.append(normalTarget)\n",
    "\n",
    "        #encode an abby normal session\n",
    "        abbyHexSession = dstIpSwapOut(sessionForEncoding, comsDict, uniqIPs) #95%, 88%\n",
    "        #abbyHexSession = ipDirSwitcher(sessionForEncoding) #96%, 98%\n",
    "        #abbyHexSession = portDirSwitcher(sessionForEncoding) #96%, 98%\n",
    "        abbyOneHotSes = oneSessionEncoder(abbyHexSession,hexDict = hexDict,packetReverse=packetReverse, \n",
    "                                          padOldTimeSteps = padOldTimeSteps, maxPackets = maxPackets, \n",
    "                                          packetTimeSteps = packetTimeSteps)\n",
    "        trainingSessions.append(abbyOneHotSes[0])\n",
    "        trainingTargets.append(abbyTarget)\n",
    "\n",
    "    #trainingSessions = [item for sublist in trainingSessions for item in sublist] #FIX in oneSessionEncoder\n",
    "    sessionsMinibatch = np.asarray(trainingSessions, dtype=theano.config.floatX)\\\n",
    "                                   .reshape((batch_sizeClass*maxPackets, packetTimeSteps, 1, 257))\n",
    "    targetsMinibatch = np.asarray(trainingTargets, dtype=theano.config.floatX)\n",
    "\n",
    "    predcostfun = classifierPredict(sessionsMinibatch)\n",
    "    testCollect.append(np.mean(np.argmax(predcostfun, axis=1) == targetsMinibatch[:,1]))\n",
    "\n",
    "print 'test accuracy: ', np.mean(testCollect)\n",
    "    \n"
   ]
  }
 ],
 "metadata": {
  "kernelspec": {
   "display_name": "Python 2",
   "language": "python",
   "name": "python2"
  },
  "language_info": {
   "codemirror_mode": {
    "name": "ipython",
    "version": 2
   },
   "file_extension": ".py",
   "mimetype": "text/x-python",
   "name": "python",
   "nbconvert_exporter": "python",
   "pygments_lexer": "ipython2",
   "version": "2.7.12"
  }
 },
 "nbformat": 4,
 "nbformat_minor": 0
}
